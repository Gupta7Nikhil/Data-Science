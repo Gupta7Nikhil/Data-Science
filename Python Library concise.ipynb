{
 "cells": [
  {
   "cell_type": "markdown",
   "id": "f373b931",
   "metadata": {},
   "source": [
    "# Matplotlib & Pandas  Concise\n",
    "In short revision of Matplotlib.pyplot library with pandas and numpy"
   ]
  },
  {
   "cell_type": "code",
   "execution_count": 326,
   "id": "2d03a7aa",
   "metadata": {},
   "outputs": [
    {
     "data": {
      "text/html": [
       "<div>\n",
       "<style scoped>\n",
       "    .dataframe tbody tr th:only-of-type {\n",
       "        vertical-align: middle;\n",
       "    }\n",
       "\n",
       "    .dataframe tbody tr th {\n",
       "        vertical-align: top;\n",
       "    }\n",
       "\n",
       "    .dataframe thead th {\n",
       "        text-align: right;\n",
       "    }\n",
       "</style>\n",
       "<table border=\"1\" class=\"dataframe\">\n",
       "  <thead>\n",
       "    <tr style=\"text-align: right;\">\n",
       "      <th></th>\n",
       "      <th>One</th>\n",
       "      <th>Two</th>\n",
       "    </tr>\n",
       "  </thead>\n",
       "  <tbody>\n",
       "    <tr>\n",
       "      <th>Label-a</th>\n",
       "      <td>25</td>\n",
       "      <td>50</td>\n",
       "    </tr>\n",
       "    <tr>\n",
       "      <th>Label-b</th>\n",
       "      <td>80</td>\n",
       "      <td>60</td>\n",
       "    </tr>\n",
       "  </tbody>\n",
       "</table>\n",
       "</div>"
      ],
      "text/plain": [
       "         One  Two\n",
       "Label-a   25   50\n",
       "Label-b   80   60"
      ]
     },
     "execution_count": 326,
     "metadata": {},
     "output_type": "execute_result"
    }
   ],
   "source": [
    "import pandas as pd\n",
    "pd.DataFrame({'One':[25,80],'Two':[50,60]},index=['Label-a','Label-b'])"
   ]
  },
  {
   "cell_type": "code",
   "execution_count": 7,
   "id": "3298ff5e",
   "metadata": {},
   "outputs": [
    {
     "data": {
      "text/plain": [
       "one      1\n",
       "two      2\n",
       "three    3\n",
       "four     4\n",
       "five     5\n",
       "dtype: int64"
      ]
     },
     "execution_count": 7,
     "metadata": {},
     "output_type": "execute_result"
    }
   ],
   "source": [
    "pd.Series([1,2,3,4,5],index=['one','two','three','four','five'])"
   ]
  },
  {
   "cell_type": "code",
   "execution_count": 327,
   "id": "05fd5109",
   "metadata": {},
   "outputs": [],
   "source": [
    "df=pd.read_csv('spam.csv',encoding_errors='ignore')"
   ]
  },
  {
   "cell_type": "code",
   "execution_count": 13,
   "id": "186bf3cc",
   "metadata": {},
   "outputs": [
    {
     "data": {
      "text/plain": [
       "(5572, 5)"
      ]
     },
     "execution_count": 13,
     "metadata": {},
     "output_type": "execute_result"
    }
   ],
   "source": [
    "df.shape"
   ]
  },
  {
   "cell_type": "code",
   "execution_count": 15,
   "id": "5fb5c41d",
   "metadata": {},
   "outputs": [
    {
     "data": {
      "text/plain": [
       "<bound method NDFrame.head of         v1                                                 v2 Unnamed: 2  \\\n",
       "0      ham  Go until jurong point, crazy.. Available only ...        NaN   \n",
       "1      ham                      Ok lar... Joking wif u oni...        NaN   \n",
       "2     spam  Free entry in 2 a wkly comp to win FA Cup fina...        NaN   \n",
       "3      ham  U dun say so early hor... U c already then say...        NaN   \n",
       "4      ham  Nah I don't think he goes to usf, he lives aro...        NaN   \n",
       "...    ...                                                ...        ...   \n",
       "5567  spam  This is the 2nd time we have tried 2 contact u...        NaN   \n",
       "5568   ham               Will _ b going to esplanade fr home?        NaN   \n",
       "5569   ham  Pity, * was in mood for that. So...any other s...        NaN   \n",
       "5570   ham  The guy did some bitching but I acted like i'd...        NaN   \n",
       "5571   ham                         Rofl. Its true to its name        NaN   \n",
       "\n",
       "     Unnamed: 3 Unnamed: 4  \n",
       "0           NaN        NaN  \n",
       "1           NaN        NaN  \n",
       "2           NaN        NaN  \n",
       "3           NaN        NaN  \n",
       "4           NaN        NaN  \n",
       "...         ...        ...  \n",
       "5567        NaN        NaN  \n",
       "5568        NaN        NaN  \n",
       "5569        NaN        NaN  \n",
       "5570        NaN        NaN  \n",
       "5571        NaN        NaN  \n",
       "\n",
       "[5572 rows x 5 columns]>"
      ]
     },
     "execution_count": 15,
     "metadata": {},
     "output_type": "execute_result"
    }
   ],
   "source": [
    "df.head"
   ]
  },
  {
   "cell_type": "code",
   "execution_count": 5,
   "id": "1a1eea1f",
   "metadata": {},
   "outputs": [
    {
     "data": {
      "text/html": [
       "<div>\n",
       "<style scoped>\n",
       "    .dataframe tbody tr th:only-of-type {\n",
       "        vertical-align: middle;\n",
       "    }\n",
       "\n",
       "    .dataframe tbody tr th {\n",
       "        vertical-align: top;\n",
       "    }\n",
       "\n",
       "    .dataframe thead th {\n",
       "        text-align: right;\n",
       "    }\n",
       "</style>\n",
       "<table border=\"1\" class=\"dataframe\">\n",
       "  <thead>\n",
       "    <tr style=\"text-align: right;\">\n",
       "      <th></th>\n",
       "      <th>v1</th>\n",
       "      <th>v2</th>\n",
       "      <th>Unnamed: 2</th>\n",
       "      <th>Unnamed: 3</th>\n",
       "      <th>Unnamed: 4</th>\n",
       "    </tr>\n",
       "  </thead>\n",
       "  <tbody>\n",
       "    <tr>\n",
       "      <th>count</th>\n",
       "      <td>5572</td>\n",
       "      <td>5572</td>\n",
       "      <td>50</td>\n",
       "      <td>12</td>\n",
       "      <td>6</td>\n",
       "    </tr>\n",
       "    <tr>\n",
       "      <th>unique</th>\n",
       "      <td>2</td>\n",
       "      <td>5168</td>\n",
       "      <td>43</td>\n",
       "      <td>10</td>\n",
       "      <td>5</td>\n",
       "    </tr>\n",
       "    <tr>\n",
       "      <th>top</th>\n",
       "      <td>ham</td>\n",
       "      <td>Sorry, I'll call later</td>\n",
       "      <td>bt not his girlfrnd... G o o d n i g h t . . .@\"</td>\n",
       "      <td>MK17 92H. 450Ppw 16\"</td>\n",
       "      <td>GNT:-)\"</td>\n",
       "    </tr>\n",
       "    <tr>\n",
       "      <th>freq</th>\n",
       "      <td>4825</td>\n",
       "      <td>30</td>\n",
       "      <td>3</td>\n",
       "      <td>2</td>\n",
       "      <td>2</td>\n",
       "    </tr>\n",
       "  </tbody>\n",
       "</table>\n",
       "</div>"
      ],
      "text/plain": [
       "          v1                      v2  \\\n",
       "count   5572                    5572   \n",
       "unique     2                    5168   \n",
       "top      ham  Sorry, I'll call later   \n",
       "freq    4825                      30   \n",
       "\n",
       "                                               Unnamed: 2  \\\n",
       "count                                                  50   \n",
       "unique                                                 43   \n",
       "top      bt not his girlfrnd... G o o d n i g h t . . .@\"   \n",
       "freq                                                    3   \n",
       "\n",
       "                   Unnamed: 3 Unnamed: 4  \n",
       "count                      12          6  \n",
       "unique                     10          5  \n",
       "top      MK17 92H. 450Ppw 16\"    GNT:-)\"  \n",
       "freq                        2          2  "
      ]
     },
     "execution_count": 5,
     "metadata": {},
     "output_type": "execute_result"
    }
   ],
   "source": [
    "df.describe()"
   ]
  },
  {
   "cell_type": "code",
   "execution_count": 8,
   "id": "88525884",
   "metadata": {},
   "outputs": [
    {
     "data": {
      "text/html": [
       "<div>\n",
       "<style scoped>\n",
       "    .dataframe tbody tr th:only-of-type {\n",
       "        vertical-align: middle;\n",
       "    }\n",
       "\n",
       "    .dataframe tbody tr th {\n",
       "        vertical-align: top;\n",
       "    }\n",
       "\n",
       "    .dataframe thead th {\n",
       "        text-align: right;\n",
       "    }\n",
       "</style>\n",
       "<table border=\"1\" class=\"dataframe\">\n",
       "  <thead>\n",
       "    <tr style=\"text-align: right;\">\n",
       "      <th></th>\n",
       "      <th>v1</th>\n",
       "      <th>v2</th>\n",
       "      <th>Unnamed: 2</th>\n",
       "      <th>Unnamed: 3</th>\n",
       "      <th>Unnamed: 4</th>\n",
       "    </tr>\n",
       "  </thead>\n",
       "  <tbody>\n",
       "    <tr>\n",
       "      <th>count</th>\n",
       "      <td>5572</td>\n",
       "      <td>5572</td>\n",
       "      <td>50</td>\n",
       "      <td>12</td>\n",
       "      <td>6</td>\n",
       "    </tr>\n",
       "    <tr>\n",
       "      <th>unique</th>\n",
       "      <td>2</td>\n",
       "      <td>5168</td>\n",
       "      <td>43</td>\n",
       "      <td>10</td>\n",
       "      <td>5</td>\n",
       "    </tr>\n",
       "    <tr>\n",
       "      <th>top</th>\n",
       "      <td>ham</td>\n",
       "      <td>Sorry, I'll call later</td>\n",
       "      <td>bt not his girlfrnd... G o o d n i g h t . . .@\"</td>\n",
       "      <td>MK17 92H. 450Ppw 16\"</td>\n",
       "      <td>GNT:-)\"</td>\n",
       "    </tr>\n",
       "    <tr>\n",
       "      <th>freq</th>\n",
       "      <td>4825</td>\n",
       "      <td>30</td>\n",
       "      <td>3</td>\n",
       "      <td>2</td>\n",
       "      <td>2</td>\n",
       "    </tr>\n",
       "  </tbody>\n",
       "</table>\n",
       "</div>"
      ],
      "text/plain": [
       "          v1                      v2  \\\n",
       "count   5572                    5572   \n",
       "unique     2                    5168   \n",
       "top      ham  Sorry, I'll call later   \n",
       "freq    4825                      30   \n",
       "\n",
       "                                               Unnamed: 2  \\\n",
       "count                                                  50   \n",
       "unique                                                 43   \n",
       "top      bt not his girlfrnd... G o o d n i g h t . . .@\"   \n",
       "freq                                                    3   \n",
       "\n",
       "                   Unnamed: 3 Unnamed: 4  \n",
       "count                      12          6  \n",
       "unique                     10          5  \n",
       "top      MK17 92H. 450Ppw 16\"    GNT:-)\"  \n",
       "freq                        2          2  "
      ]
     },
     "execution_count": 8,
     "metadata": {},
     "output_type": "execute_result"
    }
   ],
   "source": [
    "df.describe(include='all')\n"
   ]
  },
  {
   "cell_type": "code",
   "execution_count": 13,
   "id": "41353233",
   "metadata": {},
   "outputs": [],
   "source": [
    "da=pd.read_csv(\"Software_Professional_Salaries.csv\",encoding_errors='ignore')"
   ]
  },
  {
   "cell_type": "code",
   "execution_count": 15,
   "id": "4fddc94b",
   "metadata": {},
   "outputs": [
    {
     "data": {
      "text/html": [
       "<div>\n",
       "<style scoped>\n",
       "    .dataframe tbody tr th:only-of-type {\n",
       "        vertical-align: middle;\n",
       "    }\n",
       "\n",
       "    .dataframe tbody tr th {\n",
       "        vertical-align: top;\n",
       "    }\n",
       "\n",
       "    .dataframe thead th {\n",
       "        text-align: right;\n",
       "    }\n",
       "</style>\n",
       "<table border=\"1\" class=\"dataframe\">\n",
       "  <thead>\n",
       "    <tr style=\"text-align: right;\">\n",
       "      <th></th>\n",
       "      <th>Rating</th>\n",
       "      <th>Salary</th>\n",
       "      <th>Salaries Reported</th>\n",
       "    </tr>\n",
       "  </thead>\n",
       "  <tbody>\n",
       "    <tr>\n",
       "      <th>count</th>\n",
       "      <td>22774.000000</td>\n",
       "      <td>2.277400e+04</td>\n",
       "      <td>22774.000000</td>\n",
       "    </tr>\n",
       "    <tr>\n",
       "      <th>mean</th>\n",
       "      <td>3.918249</td>\n",
       "      <td>6.953606e+05</td>\n",
       "      <td>1.855625</td>\n",
       "    </tr>\n",
       "    <tr>\n",
       "      <th>std</th>\n",
       "      <td>0.519676</td>\n",
       "      <td>8.843263e+05</td>\n",
       "      <td>6.823078</td>\n",
       "    </tr>\n",
       "    <tr>\n",
       "      <th>min</th>\n",
       "      <td>1.000000</td>\n",
       "      <td>2.112000e+03</td>\n",
       "      <td>1.000000</td>\n",
       "    </tr>\n",
       "    <tr>\n",
       "      <th>25%</th>\n",
       "      <td>3.700000</td>\n",
       "      <td>3.000000e+05</td>\n",
       "      <td>1.000000</td>\n",
       "    </tr>\n",
       "    <tr>\n",
       "      <th>50%</th>\n",
       "      <td>3.900000</td>\n",
       "      <td>5.000000e+05</td>\n",
       "      <td>1.000000</td>\n",
       "    </tr>\n",
       "    <tr>\n",
       "      <th>75%</th>\n",
       "      <td>4.200000</td>\n",
       "      <td>9.000000e+05</td>\n",
       "      <td>1.000000</td>\n",
       "    </tr>\n",
       "    <tr>\n",
       "      <th>max</th>\n",
       "      <td>5.000000</td>\n",
       "      <td>9.000000e+07</td>\n",
       "      <td>361.000000</td>\n",
       "    </tr>\n",
       "  </tbody>\n",
       "</table>\n",
       "</div>"
      ],
      "text/plain": [
       "             Rating        Salary  Salaries Reported\n",
       "count  22774.000000  2.277400e+04       22774.000000\n",
       "mean       3.918249  6.953606e+05           1.855625\n",
       "std        0.519676  8.843263e+05           6.823078\n",
       "min        1.000000  2.112000e+03           1.000000\n",
       "25%        3.700000  3.000000e+05           1.000000\n",
       "50%        3.900000  5.000000e+05           1.000000\n",
       "75%        4.200000  9.000000e+05           1.000000\n",
       "max        5.000000  9.000000e+07         361.000000"
      ]
     },
     "execution_count": 15,
     "metadata": {},
     "output_type": "execute_result"
    }
   ],
   "source": [
    "da.describe()"
   ]
  },
  {
   "cell_type": "code",
   "execution_count": 17,
   "id": "a3cd614d",
   "metadata": {},
   "outputs": [
    {
     "data": {
      "text/html": [
       "<div>\n",
       "<style scoped>\n",
       "    .dataframe tbody tr th:only-of-type {\n",
       "        vertical-align: middle;\n",
       "    }\n",
       "\n",
       "    .dataframe tbody tr th {\n",
       "        vertical-align: top;\n",
       "    }\n",
       "\n",
       "    .dataframe thead th {\n",
       "        text-align: right;\n",
       "    }\n",
       "</style>\n",
       "<table border=\"1\" class=\"dataframe\">\n",
       "  <thead>\n",
       "    <tr style=\"text-align: right;\">\n",
       "      <th></th>\n",
       "      <th>Rating</th>\n",
       "      <th>Company Name</th>\n",
       "      <th>Job Title</th>\n",
       "      <th>Salary</th>\n",
       "      <th>Salaries Reported</th>\n",
       "      <th>Location</th>\n",
       "    </tr>\n",
       "  </thead>\n",
       "  <tbody>\n",
       "    <tr>\n",
       "      <th>count</th>\n",
       "      <td>22774.000000</td>\n",
       "      <td>22774</td>\n",
       "      <td>22774</td>\n",
       "      <td>2.277400e+04</td>\n",
       "      <td>22774.000000</td>\n",
       "      <td>22774</td>\n",
       "    </tr>\n",
       "    <tr>\n",
       "      <th>unique</th>\n",
       "      <td>NaN</td>\n",
       "      <td>11263</td>\n",
       "      <td>1084</td>\n",
       "      <td>NaN</td>\n",
       "      <td>NaN</td>\n",
       "      <td>10</td>\n",
       "    </tr>\n",
       "    <tr>\n",
       "      <th>top</th>\n",
       "      <td>NaN</td>\n",
       "      <td>Tata Consultancy Services</td>\n",
       "      <td>Software Development Engineer</td>\n",
       "      <td>NaN</td>\n",
       "      <td>NaN</td>\n",
       "      <td>Bangalore</td>\n",
       "    </tr>\n",
       "    <tr>\n",
       "      <th>freq</th>\n",
       "      <td>NaN</td>\n",
       "      <td>271</td>\n",
       "      <td>2351</td>\n",
       "      <td>NaN</td>\n",
       "      <td>NaN</td>\n",
       "      <td>8265</td>\n",
       "    </tr>\n",
       "    <tr>\n",
       "      <th>mean</th>\n",
       "      <td>3.918249</td>\n",
       "      <td>NaN</td>\n",
       "      <td>NaN</td>\n",
       "      <td>6.953606e+05</td>\n",
       "      <td>1.855625</td>\n",
       "      <td>NaN</td>\n",
       "    </tr>\n",
       "    <tr>\n",
       "      <th>std</th>\n",
       "      <td>0.519676</td>\n",
       "      <td>NaN</td>\n",
       "      <td>NaN</td>\n",
       "      <td>8.843263e+05</td>\n",
       "      <td>6.823078</td>\n",
       "      <td>NaN</td>\n",
       "    </tr>\n",
       "    <tr>\n",
       "      <th>min</th>\n",
       "      <td>1.000000</td>\n",
       "      <td>NaN</td>\n",
       "      <td>NaN</td>\n",
       "      <td>2.112000e+03</td>\n",
       "      <td>1.000000</td>\n",
       "      <td>NaN</td>\n",
       "    </tr>\n",
       "    <tr>\n",
       "      <th>25%</th>\n",
       "      <td>3.700000</td>\n",
       "      <td>NaN</td>\n",
       "      <td>NaN</td>\n",
       "      <td>3.000000e+05</td>\n",
       "      <td>1.000000</td>\n",
       "      <td>NaN</td>\n",
       "    </tr>\n",
       "    <tr>\n",
       "      <th>50%</th>\n",
       "      <td>3.900000</td>\n",
       "      <td>NaN</td>\n",
       "      <td>NaN</td>\n",
       "      <td>5.000000e+05</td>\n",
       "      <td>1.000000</td>\n",
       "      <td>NaN</td>\n",
       "    </tr>\n",
       "    <tr>\n",
       "      <th>75%</th>\n",
       "      <td>4.200000</td>\n",
       "      <td>NaN</td>\n",
       "      <td>NaN</td>\n",
       "      <td>9.000000e+05</td>\n",
       "      <td>1.000000</td>\n",
       "      <td>NaN</td>\n",
       "    </tr>\n",
       "    <tr>\n",
       "      <th>max</th>\n",
       "      <td>5.000000</td>\n",
       "      <td>NaN</td>\n",
       "      <td>NaN</td>\n",
       "      <td>9.000000e+07</td>\n",
       "      <td>361.000000</td>\n",
       "      <td>NaN</td>\n",
       "    </tr>\n",
       "  </tbody>\n",
       "</table>\n",
       "</div>"
      ],
      "text/plain": [
       "              Rating               Company Name  \\\n",
       "count   22774.000000                      22774   \n",
       "unique           NaN                      11263   \n",
       "top              NaN  Tata Consultancy Services   \n",
       "freq             NaN                        271   \n",
       "mean        3.918249                        NaN   \n",
       "std         0.519676                        NaN   \n",
       "min         1.000000                        NaN   \n",
       "25%         3.700000                        NaN   \n",
       "50%         3.900000                        NaN   \n",
       "75%         4.200000                        NaN   \n",
       "max         5.000000                        NaN   \n",
       "\n",
       "                            Job Title        Salary  Salaries Reported  \\\n",
       "count                           22774  2.277400e+04       22774.000000   \n",
       "unique                           1084           NaN                NaN   \n",
       "top     Software Development Engineer           NaN                NaN   \n",
       "freq                             2351           NaN                NaN   \n",
       "mean                              NaN  6.953606e+05           1.855625   \n",
       "std                               NaN  8.843263e+05           6.823078   \n",
       "min                               NaN  2.112000e+03           1.000000   \n",
       "25%                               NaN  3.000000e+05           1.000000   \n",
       "50%                               NaN  5.000000e+05           1.000000   \n",
       "75%                               NaN  9.000000e+05           1.000000   \n",
       "max                               NaN  9.000000e+07         361.000000   \n",
       "\n",
       "         Location  \n",
       "count       22774  \n",
       "unique         10  \n",
       "top     Bangalore  \n",
       "freq         8265  \n",
       "mean          NaN  \n",
       "std           NaN  \n",
       "min           NaN  \n",
       "25%           NaN  \n",
       "50%           NaN  \n",
       "75%           NaN  \n",
       "max           NaN  "
      ]
     },
     "execution_count": 17,
     "metadata": {},
     "output_type": "execute_result"
    }
   ],
   "source": [
    "da.describe(include='all')"
   ]
  },
  {
   "cell_type": "code",
   "execution_count": 19,
   "id": "b587bed4",
   "metadata": {
    "collapsed": true
   },
   "outputs": [
    {
     "name": "stdout",
     "output_type": "stream",
     "text": [
      "<class 'pandas.core.frame.DataFrame'>\n",
      "RangeIndex: 22774 entries, 0 to 22773\n",
      "Data columns (total 6 columns):\n",
      " #   Column             Non-Null Count  Dtype  \n",
      "---  ------             --------------  -----  \n",
      " 0   Rating             22774 non-null  float64\n",
      " 1   Company Name       22774 non-null  object \n",
      " 2   Job Title          22774 non-null  object \n",
      " 3   Salary             22774 non-null  int64  \n",
      " 4   Salaries Reported  22774 non-null  int64  \n",
      " 5   Location           22774 non-null  object \n",
      "dtypes: float64(1), int64(2), object(3)\n",
      "memory usage: 1.0+ MB\n"
     ]
    }
   ],
   "source": [
    "da.info()"
   ]
  },
  {
   "cell_type": "code",
   "execution_count": 21,
   "id": "31aebbdc",
   "metadata": {},
   "outputs": [
    {
     "data": {
      "text/plain": [
       "(22774, 6)"
      ]
     },
     "execution_count": 21,
     "metadata": {},
     "output_type": "execute_result"
    }
   ],
   "source": [
    "da.shape"
   ]
  },
  {
   "cell_type": "code",
   "execution_count": 24,
   "id": "db132cb7",
   "metadata": {},
   "outputs": [
    {
     "name": "stdout",
     "output_type": "stream",
     "text": [
      "<class 'pandas.core.frame.DataFrame'>\n",
      "RangeIndex: 5572 entries, 0 to 5571\n",
      "Data columns (total 5 columns):\n",
      " #   Column      Non-Null Count  Dtype \n",
      "---  ------      --------------  ----- \n",
      " 0   v1          5572 non-null   object\n",
      " 1   v2          5572 non-null   object\n",
      " 2   Unnamed: 2  50 non-null     object\n",
      " 3   Unnamed: 3  12 non-null     object\n",
      " 4   Unnamed: 4  6 non-null      object\n",
      "dtypes: object(5)\n",
      "memory usage: 217.8+ KB\n"
     ]
    }
   ],
   "source": [
    "df.info()"
   ]
  },
  {
   "cell_type": "code",
   "execution_count": 26,
   "id": "688609ba",
   "metadata": {},
   "outputs": [
    {
     "data": {
      "text/plain": [
       "(5572, 5)"
      ]
     },
     "execution_count": 26,
     "metadata": {},
     "output_type": "execute_result"
    }
   ],
   "source": [
    "df.shape"
   ]
  },
  {
   "cell_type": "code",
   "execution_count": 28,
   "id": "8e71d4d8",
   "metadata": {},
   "outputs": [
    {
     "data": {
      "text/plain": [
       "v1               0\n",
       "v2               0\n",
       "Unnamed: 2    5522\n",
       "Unnamed: 3    5560\n",
       "Unnamed: 4    5566\n",
       "dtype: int64"
      ]
     },
     "execution_count": 28,
     "metadata": {},
     "output_type": "execute_result"
    }
   ],
   "source": [
    "df.isnull().sum()"
   ]
  },
  {
   "cell_type": "code",
   "execution_count": 30,
   "id": "f1a53799",
   "metadata": {},
   "outputs": [
    {
     "data": {
      "text/plain": [
       "Rating               0\n",
       "Company Name         0\n",
       "Job Title            0\n",
       "Salary               0\n",
       "Salaries Reported    0\n",
       "Location             0\n",
       "dtype: int64"
      ]
     },
     "execution_count": 30,
     "metadata": {},
     "output_type": "execute_result"
    }
   ],
   "source": [
    "da.isnull().sum()"
   ]
  },
  {
   "cell_type": "code",
   "execution_count": 34,
   "id": "30043b24",
   "metadata": {},
   "outputs": [
    {
     "data": {
      "text/html": [
       "<div>\n",
       "<style scoped>\n",
       "    .dataframe tbody tr th:only-of-type {\n",
       "        vertical-align: middle;\n",
       "    }\n",
       "\n",
       "    .dataframe tbody tr th {\n",
       "        vertical-align: top;\n",
       "    }\n",
       "\n",
       "    .dataframe thead th {\n",
       "        text-align: right;\n",
       "    }\n",
       "</style>\n",
       "<table border=\"1\" class=\"dataframe\">\n",
       "  <thead>\n",
       "    <tr style=\"text-align: right;\">\n",
       "      <th></th>\n",
       "      <th>v1</th>\n",
       "      <th>v2</th>\n",
       "      <th>Unnamed: 2</th>\n",
       "      <th>Unnamed: 3</th>\n",
       "      <th>Unnamed: 4</th>\n",
       "    </tr>\n",
       "  </thead>\n",
       "  <tbody>\n",
       "    <tr>\n",
       "      <th>0</th>\n",
       "      <td>False</td>\n",
       "      <td>False</td>\n",
       "      <td>True</td>\n",
       "      <td>True</td>\n",
       "      <td>True</td>\n",
       "    </tr>\n",
       "    <tr>\n",
       "      <th>1</th>\n",
       "      <td>False</td>\n",
       "      <td>False</td>\n",
       "      <td>True</td>\n",
       "      <td>True</td>\n",
       "      <td>True</td>\n",
       "    </tr>\n",
       "    <tr>\n",
       "      <th>2</th>\n",
       "      <td>False</td>\n",
       "      <td>False</td>\n",
       "      <td>True</td>\n",
       "      <td>True</td>\n",
       "      <td>True</td>\n",
       "    </tr>\n",
       "    <tr>\n",
       "      <th>3</th>\n",
       "      <td>False</td>\n",
       "      <td>False</td>\n",
       "      <td>True</td>\n",
       "      <td>True</td>\n",
       "      <td>True</td>\n",
       "    </tr>\n",
       "    <tr>\n",
       "      <th>4</th>\n",
       "      <td>False</td>\n",
       "      <td>False</td>\n",
       "      <td>True</td>\n",
       "      <td>True</td>\n",
       "      <td>True</td>\n",
       "    </tr>\n",
       "    <tr>\n",
       "      <th>...</th>\n",
       "      <td>...</td>\n",
       "      <td>...</td>\n",
       "      <td>...</td>\n",
       "      <td>...</td>\n",
       "      <td>...</td>\n",
       "    </tr>\n",
       "    <tr>\n",
       "      <th>5567</th>\n",
       "      <td>False</td>\n",
       "      <td>False</td>\n",
       "      <td>True</td>\n",
       "      <td>True</td>\n",
       "      <td>True</td>\n",
       "    </tr>\n",
       "    <tr>\n",
       "      <th>5568</th>\n",
       "      <td>False</td>\n",
       "      <td>False</td>\n",
       "      <td>True</td>\n",
       "      <td>True</td>\n",
       "      <td>True</td>\n",
       "    </tr>\n",
       "    <tr>\n",
       "      <th>5569</th>\n",
       "      <td>False</td>\n",
       "      <td>False</td>\n",
       "      <td>True</td>\n",
       "      <td>True</td>\n",
       "      <td>True</td>\n",
       "    </tr>\n",
       "    <tr>\n",
       "      <th>5570</th>\n",
       "      <td>False</td>\n",
       "      <td>False</td>\n",
       "      <td>True</td>\n",
       "      <td>True</td>\n",
       "      <td>True</td>\n",
       "    </tr>\n",
       "    <tr>\n",
       "      <th>5571</th>\n",
       "      <td>False</td>\n",
       "      <td>False</td>\n",
       "      <td>True</td>\n",
       "      <td>True</td>\n",
       "      <td>True</td>\n",
       "    </tr>\n",
       "  </tbody>\n",
       "</table>\n",
       "<p>5572 rows × 5 columns</p>\n",
       "</div>"
      ],
      "text/plain": [
       "         v1     v2  Unnamed: 2  Unnamed: 3  Unnamed: 4\n",
       "0     False  False        True        True        True\n",
       "1     False  False        True        True        True\n",
       "2     False  False        True        True        True\n",
       "3     False  False        True        True        True\n",
       "4     False  False        True        True        True\n",
       "...     ...    ...         ...         ...         ...\n",
       "5567  False  False        True        True        True\n",
       "5568  False  False        True        True        True\n",
       "5569  False  False        True        True        True\n",
       "5570  False  False        True        True        True\n",
       "5571  False  False        True        True        True\n",
       "\n",
       "[5572 rows x 5 columns]"
      ]
     },
     "execution_count": 34,
     "metadata": {},
     "output_type": "execute_result"
    }
   ],
   "source": [
    "df.isnull()"
   ]
  },
  {
   "cell_type": "code",
   "execution_count": 287,
   "id": "09eb4ddd",
   "metadata": {},
   "outputs": [
    {
     "data": {
      "text/html": [
       "<div>\n",
       "<style scoped>\n",
       "    .dataframe tbody tr th:only-of-type {\n",
       "        vertical-align: middle;\n",
       "    }\n",
       "\n",
       "    .dataframe tbody tr th {\n",
       "        vertical-align: top;\n",
       "    }\n",
       "\n",
       "    .dataframe thead th {\n",
       "        text-align: right;\n",
       "    }\n",
       "</style>\n",
       "<table border=\"1\" class=\"dataframe\">\n",
       "  <thead>\n",
       "    <tr style=\"text-align: right;\">\n",
       "      <th></th>\n",
       "      <th>v1</th>\n",
       "      <th>v2</th>\n",
       "      <th>Unnamed: 2</th>\n",
       "      <th>Unnamed: 3</th>\n",
       "      <th>Unnamed: 4</th>\n",
       "    </tr>\n",
       "  </thead>\n",
       "  <tbody>\n",
       "    <tr>\n",
       "      <th>0</th>\n",
       "      <td>ham</td>\n",
       "      <td>Go until jurong point, crazy.. Available only ...</td>\n",
       "      <td>NaN</td>\n",
       "      <td>NaN</td>\n",
       "      <td>NaN</td>\n",
       "    </tr>\n",
       "    <tr>\n",
       "      <th>1</th>\n",
       "      <td>ham</td>\n",
       "      <td>Ok lar... Joking wif u oni...</td>\n",
       "      <td>NaN</td>\n",
       "      <td>NaN</td>\n",
       "      <td>NaN</td>\n",
       "    </tr>\n",
       "    <tr>\n",
       "      <th>2</th>\n",
       "      <td>spam</td>\n",
       "      <td>Free entry in 2 a wkly comp to win FA Cup fina...</td>\n",
       "      <td>NaN</td>\n",
       "      <td>NaN</td>\n",
       "      <td>NaN</td>\n",
       "    </tr>\n",
       "    <tr>\n",
       "      <th>3</th>\n",
       "      <td>ham</td>\n",
       "      <td>U dun say so early hor... U c already then say...</td>\n",
       "      <td>NaN</td>\n",
       "      <td>NaN</td>\n",
       "      <td>NaN</td>\n",
       "    </tr>\n",
       "    <tr>\n",
       "      <th>4</th>\n",
       "      <td>ham</td>\n",
       "      <td>Nah I don't think he goes to usf, he lives aro...</td>\n",
       "      <td>NaN</td>\n",
       "      <td>NaN</td>\n",
       "      <td>NaN</td>\n",
       "    </tr>\n",
       "    <tr>\n",
       "      <th>5</th>\n",
       "      <td>spam</td>\n",
       "      <td>FreeMsg Hey there darling it's been 3 week's n...</td>\n",
       "      <td>NaN</td>\n",
       "      <td>NaN</td>\n",
       "      <td>NaN</td>\n",
       "    </tr>\n",
       "    <tr>\n",
       "      <th>6</th>\n",
       "      <td>ham</td>\n",
       "      <td>Even my brother is not like to speak with me. ...</td>\n",
       "      <td>NaN</td>\n",
       "      <td>NaN</td>\n",
       "      <td>NaN</td>\n",
       "    </tr>\n",
       "    <tr>\n",
       "      <th>7</th>\n",
       "      <td>ham</td>\n",
       "      <td>As per your request 'Melle Melle (Oru Minnamin...</td>\n",
       "      <td>NaN</td>\n",
       "      <td>NaN</td>\n",
       "      <td>NaN</td>\n",
       "    </tr>\n",
       "    <tr>\n",
       "      <th>8</th>\n",
       "      <td>spam</td>\n",
       "      <td>WINNER!! As a valued network customer you have...</td>\n",
       "      <td>NaN</td>\n",
       "      <td>NaN</td>\n",
       "      <td>NaN</td>\n",
       "    </tr>\n",
       "    <tr>\n",
       "      <th>9</th>\n",
       "      <td>spam</td>\n",
       "      <td>Had your mobile 11 months or more? U R entitle...</td>\n",
       "      <td>NaN</td>\n",
       "      <td>NaN</td>\n",
       "      <td>NaN</td>\n",
       "    </tr>\n",
       "  </tbody>\n",
       "</table>\n",
       "</div>"
      ],
      "text/plain": [
       "     v1                                                 v2 Unnamed: 2  \\\n",
       "0   ham  Go until jurong point, crazy.. Available only ...        NaN   \n",
       "1   ham                      Ok lar... Joking wif u oni...        NaN   \n",
       "2  spam  Free entry in 2 a wkly comp to win FA Cup fina...        NaN   \n",
       "3   ham  U dun say so early hor... U c already then say...        NaN   \n",
       "4   ham  Nah I don't think he goes to usf, he lives aro...        NaN   \n",
       "5  spam  FreeMsg Hey there darling it's been 3 week's n...        NaN   \n",
       "6   ham  Even my brother is not like to speak with me. ...        NaN   \n",
       "7   ham  As per your request 'Melle Melle (Oru Minnamin...        NaN   \n",
       "8  spam  WINNER!! As a valued network customer you have...        NaN   \n",
       "9  spam  Had your mobile 11 months or more? U R entitle...        NaN   \n",
       "\n",
       "  Unnamed: 3 Unnamed: 4  \n",
       "0        NaN        NaN  \n",
       "1        NaN        NaN  \n",
       "2        NaN        NaN  \n",
       "3        NaN        NaN  \n",
       "4        NaN        NaN  \n",
       "5        NaN        NaN  \n",
       "6        NaN        NaN  \n",
       "7        NaN        NaN  \n",
       "8        NaN        NaN  \n",
       "9        NaN        NaN  "
      ]
     },
     "execution_count": 287,
     "metadata": {},
     "output_type": "execute_result"
    }
   ],
   "source": [
    "df.head(10)"
   ]
  },
  {
   "cell_type": "code",
   "execution_count": 38,
   "id": "6af5a59e",
   "metadata": {},
   "outputs": [
    {
     "data": {
      "text/plain": [
       "0        ham\n",
       "1        ham\n",
       "2       spam\n",
       "3        ham\n",
       "4        ham\n",
       "        ... \n",
       "5567    spam\n",
       "5568     ham\n",
       "5569     ham\n",
       "5570     ham\n",
       "5571     ham\n",
       "Name: v1, Length: 5572, dtype: object"
      ]
     },
     "execution_count": 38,
     "metadata": {},
     "output_type": "execute_result"
    }
   ],
   "source": [
    "df['v1']"
   ]
  },
  {
   "cell_type": "code",
   "execution_count": 41,
   "id": "7fbb9926",
   "metadata": {},
   "outputs": [
    {
     "data": {
      "text/html": [
       "<div>\n",
       "<style scoped>\n",
       "    .dataframe tbody tr th:only-of-type {\n",
       "        vertical-align: middle;\n",
       "    }\n",
       "\n",
       "    .dataframe tbody tr th {\n",
       "        vertical-align: top;\n",
       "    }\n",
       "\n",
       "    .dataframe thead th {\n",
       "        text-align: right;\n",
       "    }\n",
       "</style>\n",
       "<table border=\"1\" class=\"dataframe\">\n",
       "  <thead>\n",
       "    <tr style=\"text-align: right;\">\n",
       "      <th></th>\n",
       "      <th>v1</th>\n",
       "      <th>v2</th>\n",
       "    </tr>\n",
       "  </thead>\n",
       "  <tbody>\n",
       "    <tr>\n",
       "      <th>0</th>\n",
       "      <td>ham</td>\n",
       "      <td>Go until jurong point, crazy.. Available only ...</td>\n",
       "    </tr>\n",
       "    <tr>\n",
       "      <th>1</th>\n",
       "      <td>ham</td>\n",
       "      <td>Ok lar... Joking wif u oni...</td>\n",
       "    </tr>\n",
       "    <tr>\n",
       "      <th>2</th>\n",
       "      <td>spam</td>\n",
       "      <td>Free entry in 2 a wkly comp to win FA Cup fina...</td>\n",
       "    </tr>\n",
       "    <tr>\n",
       "      <th>3</th>\n",
       "      <td>ham</td>\n",
       "      <td>U dun say so early hor... U c already then say...</td>\n",
       "    </tr>\n",
       "    <tr>\n",
       "      <th>4</th>\n",
       "      <td>ham</td>\n",
       "      <td>Nah I don't think he goes to usf, he lives aro...</td>\n",
       "    </tr>\n",
       "    <tr>\n",
       "      <th>...</th>\n",
       "      <td>...</td>\n",
       "      <td>...</td>\n",
       "    </tr>\n",
       "    <tr>\n",
       "      <th>5567</th>\n",
       "      <td>spam</td>\n",
       "      <td>This is the 2nd time we have tried 2 contact u...</td>\n",
       "    </tr>\n",
       "    <tr>\n",
       "      <th>5568</th>\n",
       "      <td>ham</td>\n",
       "      <td>Will _ b going to esplanade fr home?</td>\n",
       "    </tr>\n",
       "    <tr>\n",
       "      <th>5569</th>\n",
       "      <td>ham</td>\n",
       "      <td>Pity, * was in mood for that. So...any other s...</td>\n",
       "    </tr>\n",
       "    <tr>\n",
       "      <th>5570</th>\n",
       "      <td>ham</td>\n",
       "      <td>The guy did some bitching but I acted like i'd...</td>\n",
       "    </tr>\n",
       "    <tr>\n",
       "      <th>5571</th>\n",
       "      <td>ham</td>\n",
       "      <td>Rofl. Its true to its name</td>\n",
       "    </tr>\n",
       "  </tbody>\n",
       "</table>\n",
       "<p>5572 rows × 2 columns</p>\n",
       "</div>"
      ],
      "text/plain": [
       "        v1                                                 v2\n",
       "0      ham  Go until jurong point, crazy.. Available only ...\n",
       "1      ham                      Ok lar... Joking wif u oni...\n",
       "2     spam  Free entry in 2 a wkly comp to win FA Cup fina...\n",
       "3      ham  U dun say so early hor... U c already then say...\n",
       "4      ham  Nah I don't think he goes to usf, he lives aro...\n",
       "...    ...                                                ...\n",
       "5567  spam  This is the 2nd time we have tried 2 contact u...\n",
       "5568   ham               Will _ b going to esplanade fr home?\n",
       "5569   ham  Pity, * was in mood for that. So...any other s...\n",
       "5570   ham  The guy did some bitching but I acted like i'd...\n",
       "5571   ham                         Rofl. Its true to its name\n",
       "\n",
       "[5572 rows x 2 columns]"
      ]
     },
     "execution_count": 41,
     "metadata": {},
     "output_type": "execute_result"
    }
   ],
   "source": [
    "#for selecting multiple columns\n",
    "ls=['v1','v2','Unnamed: 2']\n",
    "df[ls]\n",
    "df[ls[:2]]"
   ]
  },
  {
   "cell_type": "code",
   "execution_count": 43,
   "id": "6b60d081",
   "metadata": {},
   "outputs": [
    {
     "data": {
      "text/plain": [
       "v1                                                          ham\n",
       "v2            Go until jurong point, crazy.. Available only ...\n",
       "Unnamed: 2                                                  NaN\n",
       "Unnamed: 3                                                  NaN\n",
       "Unnamed: 4                                                  NaN\n",
       "Name: 0, dtype: object"
      ]
     },
     "execution_count": 43,
     "metadata": {},
     "output_type": "execute_result"
    }
   ],
   "source": [
    "#for selecting single or multiple rows\n",
    "df.loc[0]"
   ]
  },
  {
   "cell_type": "code",
   "execution_count": 45,
   "id": "33a854e2",
   "metadata": {},
   "outputs": [
    {
     "data": {
      "text/plain": [
       "Rating                             3.8\n",
       "Company Name                    Sasken\n",
       "Job Title            Android Developer\n",
       "Salary                          400000\n",
       "Salaries Reported                    3\n",
       "Location                     Bangalore\n",
       "Name: 0, dtype: object"
      ]
     },
     "execution_count": 45,
     "metadata": {},
     "output_type": "execute_result"
    }
   ],
   "source": [
    "da.loc[0]"
   ]
  },
  {
   "cell_type": "code",
   "execution_count": 50,
   "id": "dcb08117",
   "metadata": {},
   "outputs": [
    {
     "data": {
      "text/html": [
       "<div>\n",
       "<style scoped>\n",
       "    .dataframe tbody tr th:only-of-type {\n",
       "        vertical-align: middle;\n",
       "    }\n",
       "\n",
       "    .dataframe tbody tr th {\n",
       "        vertical-align: top;\n",
       "    }\n",
       "\n",
       "    .dataframe thead th {\n",
       "        text-align: right;\n",
       "    }\n",
       "</style>\n",
       "<table border=\"1\" class=\"dataframe\">\n",
       "  <thead>\n",
       "    <tr style=\"text-align: right;\">\n",
       "      <th></th>\n",
       "      <th>v1</th>\n",
       "      <th>v2</th>\n",
       "      <th>Unnamed: 2</th>\n",
       "      <th>Unnamed: 3</th>\n",
       "      <th>Unnamed: 4</th>\n",
       "    </tr>\n",
       "  </thead>\n",
       "  <tbody>\n",
       "    <tr>\n",
       "      <th>4</th>\n",
       "      <td>ham</td>\n",
       "      <td>Nah I don't think he goes to usf, he lives aro...</td>\n",
       "      <td>NaN</td>\n",
       "      <td>NaN</td>\n",
       "      <td>NaN</td>\n",
       "    </tr>\n",
       "    <tr>\n",
       "      <th>6</th>\n",
       "      <td>ham</td>\n",
       "      <td>Even my brother is not like to speak with me. ...</td>\n",
       "      <td>NaN</td>\n",
       "      <td>NaN</td>\n",
       "      <td>NaN</td>\n",
       "    </tr>\n",
       "    <tr>\n",
       "      <th>7</th>\n",
       "      <td>ham</td>\n",
       "      <td>As per your request 'Melle Melle (Oru Minnamin...</td>\n",
       "      <td>NaN</td>\n",
       "      <td>NaN</td>\n",
       "      <td>NaN</td>\n",
       "    </tr>\n",
       "  </tbody>\n",
       "</table>\n",
       "</div>"
      ],
      "text/plain": [
       "    v1                                                 v2 Unnamed: 2  \\\n",
       "4  ham  Nah I don't think he goes to usf, he lives aro...        NaN   \n",
       "6  ham  Even my brother is not like to speak with me. ...        NaN   \n",
       "7  ham  As per your request 'Melle Melle (Oru Minnamin...        NaN   \n",
       "\n",
       "  Unnamed: 3 Unnamed: 4  \n",
       "4        NaN        NaN  \n",
       "6        NaN        NaN  \n",
       "7        NaN        NaN  "
      ]
     },
     "execution_count": 50,
     "metadata": {},
     "output_type": "execute_result"
    }
   ],
   "source": [
    "df.loc[[4,6,7]]"
   ]
  },
  {
   "cell_type": "code",
   "execution_count": 53,
   "id": "4f48332a",
   "metadata": {},
   "outputs": [
    {
     "data": {
      "text/html": [
       "<div>\n",
       "<style scoped>\n",
       "    .dataframe tbody tr th:only-of-type {\n",
       "        vertical-align: middle;\n",
       "    }\n",
       "\n",
       "    .dataframe tbody tr th {\n",
       "        vertical-align: top;\n",
       "    }\n",
       "\n",
       "    .dataframe thead th {\n",
       "        text-align: right;\n",
       "    }\n",
       "</style>\n",
       "<table border=\"1\" class=\"dataframe\">\n",
       "  <thead>\n",
       "    <tr style=\"text-align: right;\">\n",
       "      <th></th>\n",
       "      <th>Rating</th>\n",
       "      <th>Company Name</th>\n",
       "      <th>Job Title</th>\n",
       "      <th>Salary</th>\n",
       "      <th>Salaries Reported</th>\n",
       "      <th>Location</th>\n",
       "    </tr>\n",
       "  </thead>\n",
       "  <tbody>\n",
       "    <tr>\n",
       "      <th>1</th>\n",
       "      <td>4.5</td>\n",
       "      <td>Advanced Millennium Technologies</td>\n",
       "      <td>Android Developer</td>\n",
       "      <td>400000</td>\n",
       "      <td>3</td>\n",
       "      <td>Bangalore</td>\n",
       "    </tr>\n",
       "    <tr>\n",
       "      <th>2</th>\n",
       "      <td>4.0</td>\n",
       "      <td>Unacademy</td>\n",
       "      <td>Android Developer</td>\n",
       "      <td>1000000</td>\n",
       "      <td>3</td>\n",
       "      <td>Bangalore</td>\n",
       "    </tr>\n",
       "    <tr>\n",
       "      <th>3</th>\n",
       "      <td>3.8</td>\n",
       "      <td>SnapBizz Cloudtech</td>\n",
       "      <td>Android Developer</td>\n",
       "      <td>300000</td>\n",
       "      <td>3</td>\n",
       "      <td>Bangalore</td>\n",
       "    </tr>\n",
       "    <tr>\n",
       "      <th>4</th>\n",
       "      <td>4.4</td>\n",
       "      <td>Appoids Tech Solutions</td>\n",
       "      <td>Android Developer</td>\n",
       "      <td>600000</td>\n",
       "      <td>3</td>\n",
       "      <td>Bangalore</td>\n",
       "    </tr>\n",
       "    <tr>\n",
       "      <th>5</th>\n",
       "      <td>4.2</td>\n",
       "      <td>Freelancer</td>\n",
       "      <td>Android Developer</td>\n",
       "      <td>100000</td>\n",
       "      <td>3</td>\n",
       "      <td>Bangalore</td>\n",
       "    </tr>\n",
       "    <tr>\n",
       "      <th>6</th>\n",
       "      <td>3.7</td>\n",
       "      <td>SQUARE N CUBE</td>\n",
       "      <td>Android Developer</td>\n",
       "      <td>192000</td>\n",
       "      <td>3</td>\n",
       "      <td>Bangalore</td>\n",
       "    </tr>\n",
       "    <tr>\n",
       "      <th>7</th>\n",
       "      <td>3.1</td>\n",
       "      <td>Samsung R&amp;D Institute India - Bangalore</td>\n",
       "      <td>Android Developer</td>\n",
       "      <td>400000</td>\n",
       "      <td>3</td>\n",
       "      <td>Bangalore</td>\n",
       "    </tr>\n",
       "    <tr>\n",
       "      <th>8</th>\n",
       "      <td>3.7</td>\n",
       "      <td>DXMinds Technologies</td>\n",
       "      <td>Android Developer</td>\n",
       "      <td>300000</td>\n",
       "      <td>3</td>\n",
       "      <td>Bangalore</td>\n",
       "    </tr>\n",
       "    <tr>\n",
       "      <th>9</th>\n",
       "      <td>3.6</td>\n",
       "      <td>Endeavour Software Technologies</td>\n",
       "      <td>Android Developer</td>\n",
       "      <td>600000</td>\n",
       "      <td>3</td>\n",
       "      <td>Bangalore</td>\n",
       "    </tr>\n",
       "    <tr>\n",
       "      <th>10</th>\n",
       "      <td>3.6</td>\n",
       "      <td>Craft Silicon</td>\n",
       "      <td>Android Developer</td>\n",
       "      <td>300000</td>\n",
       "      <td>3</td>\n",
       "      <td>Bangalore</td>\n",
       "    </tr>\n",
       "  </tbody>\n",
       "</table>\n",
       "</div>"
      ],
      "text/plain": [
       "    Rating                             Company Name          Job Title  \\\n",
       "1      4.5         Advanced Millennium Technologies  Android Developer   \n",
       "2      4.0                                Unacademy  Android Developer   \n",
       "3      3.8                       SnapBizz Cloudtech  Android Developer   \n",
       "4      4.4                   Appoids Tech Solutions  Android Developer   \n",
       "5      4.2                               Freelancer  Android Developer   \n",
       "6      3.7                            SQUARE N CUBE  Android Developer   \n",
       "7      3.1  Samsung R&D Institute India - Bangalore  Android Developer   \n",
       "8      3.7                     DXMinds Technologies  Android Developer   \n",
       "9      3.6          Endeavour Software Technologies  Android Developer   \n",
       "10     3.6                            Craft Silicon  Android Developer   \n",
       "\n",
       "     Salary  Salaries Reported   Location  \n",
       "1    400000                  3  Bangalore  \n",
       "2   1000000                  3  Bangalore  \n",
       "3    300000                  3  Bangalore  \n",
       "4    600000                  3  Bangalore  \n",
       "5    100000                  3  Bangalore  \n",
       "6    192000                  3  Bangalore  \n",
       "7    400000                  3  Bangalore  \n",
       "8    300000                  3  Bangalore  \n",
       "9    600000                  3  Bangalore  \n",
       "10   300000                  3  Bangalore  "
      ]
     },
     "execution_count": 53,
     "metadata": {},
     "output_type": "execute_result"
    }
   ],
   "source": [
    "da.loc[1:10]"
   ]
  },
  {
   "cell_type": "code",
   "execution_count": 54,
   "id": "1de95a22",
   "metadata": {},
   "outputs": [
    {
     "data": {
      "text/plain": [
       "1            Advanced Millennium Technologies\n",
       "2                                   Unacademy\n",
       "3                          SnapBizz Cloudtech\n",
       "4                      Appoids Tech Solutions\n",
       "5                                  Freelancer\n",
       "6                               SQUARE N CUBE\n",
       "7     Samsung R&D Institute India - Bangalore\n",
       "8                        DXMinds Technologies\n",
       "9             Endeavour Software Technologies\n",
       "10                              Craft Silicon\n",
       "Name: Company Name, dtype: object"
      ]
     },
     "execution_count": 54,
     "metadata": {},
     "output_type": "execute_result"
    }
   ],
   "source": [
    "da.loc[1:10,'Company Name']"
   ]
  },
  {
   "cell_type": "code",
   "execution_count": 56,
   "id": "00aee5cc",
   "metadata": {},
   "outputs": [],
   "source": [
    "da.loc[1:10,'Company Name']='INDIA THE GREAT'"
   ]
  },
  {
   "cell_type": "code",
   "execution_count": 60,
   "id": "cc4cb40b",
   "metadata": {},
   "outputs": [
    {
     "data": {
      "text/plain": [
       "0        False\n",
       "1         True\n",
       "2         True\n",
       "3         True\n",
       "4         True\n",
       "         ...  \n",
       "22769    False\n",
       "22770    False\n",
       "22771    False\n",
       "22772    False\n",
       "22773    False\n",
       "Name: Company Name, Length: 22774, dtype: bool"
      ]
     },
     "execution_count": 60,
     "metadata": {},
     "output_type": "execute_result"
    }
   ],
   "source": [
    "cond=da['Company Name']=='INDIA THE GREAT'\n",
    "cond"
   ]
  },
  {
   "cell_type": "code",
   "execution_count": 62,
   "id": "5a887b99",
   "metadata": {},
   "outputs": [
    {
     "data": {
      "text/html": [
       "<div>\n",
       "<style scoped>\n",
       "    .dataframe tbody tr th:only-of-type {\n",
       "        vertical-align: middle;\n",
       "    }\n",
       "\n",
       "    .dataframe tbody tr th {\n",
       "        vertical-align: top;\n",
       "    }\n",
       "\n",
       "    .dataframe thead th {\n",
       "        text-align: right;\n",
       "    }\n",
       "</style>\n",
       "<table border=\"1\" class=\"dataframe\">\n",
       "  <thead>\n",
       "    <tr style=\"text-align: right;\">\n",
       "      <th></th>\n",
       "      <th>Rating</th>\n",
       "      <th>Company Name</th>\n",
       "      <th>Job Title</th>\n",
       "      <th>Salary</th>\n",
       "      <th>Salaries Reported</th>\n",
       "      <th>Location</th>\n",
       "    </tr>\n",
       "  </thead>\n",
       "  <tbody>\n",
       "    <tr>\n",
       "      <th>0</th>\n",
       "      <td>3.8</td>\n",
       "      <td>Sasken</td>\n",
       "      <td>Android Developer</td>\n",
       "      <td>400000</td>\n",
       "      <td>3</td>\n",
       "      <td>Bangalore</td>\n",
       "    </tr>\n",
       "    <tr>\n",
       "      <th>1</th>\n",
       "      <td>4.5</td>\n",
       "      <td>INDIA THE GREAT</td>\n",
       "      <td>Android Developer</td>\n",
       "      <td>400000</td>\n",
       "      <td>3</td>\n",
       "      <td>Bangalore</td>\n",
       "    </tr>\n",
       "    <tr>\n",
       "      <th>2</th>\n",
       "      <td>4.0</td>\n",
       "      <td>INDIA THE GREAT</td>\n",
       "      <td>Android Developer</td>\n",
       "      <td>1000000</td>\n",
       "      <td>3</td>\n",
       "      <td>Bangalore</td>\n",
       "    </tr>\n",
       "    <tr>\n",
       "      <th>3</th>\n",
       "      <td>3.8</td>\n",
       "      <td>INDIA THE GREAT</td>\n",
       "      <td>Android Developer</td>\n",
       "      <td>300000</td>\n",
       "      <td>3</td>\n",
       "      <td>Bangalore</td>\n",
       "    </tr>\n",
       "    <tr>\n",
       "      <th>4</th>\n",
       "      <td>4.4</td>\n",
       "      <td>INDIA THE GREAT</td>\n",
       "      <td>Android Developer</td>\n",
       "      <td>600000</td>\n",
       "      <td>3</td>\n",
       "      <td>Bangalore</td>\n",
       "    </tr>\n",
       "  </tbody>\n",
       "</table>\n",
       "</div>"
      ],
      "text/plain": [
       "   Rating     Company Name          Job Title   Salary  Salaries Reported  \\\n",
       "0     3.8           Sasken  Android Developer   400000                  3   \n",
       "1     4.5  INDIA THE GREAT  Android Developer   400000                  3   \n",
       "2     4.0  INDIA THE GREAT  Android Developer  1000000                  3   \n",
       "3     3.8  INDIA THE GREAT  Android Developer   300000                  3   \n",
       "4     4.4  INDIA THE GREAT  Android Developer   600000                  3   \n",
       "\n",
       "    Location  \n",
       "0  Bangalore  \n",
       "1  Bangalore  \n",
       "2  Bangalore  \n",
       "3  Bangalore  \n",
       "4  Bangalore  "
      ]
     },
     "execution_count": 62,
     "metadata": {},
     "output_type": "execute_result"
    }
   ],
   "source": [
    "da.head()"
   ]
  },
  {
   "cell_type": "code",
   "execution_count": 72,
   "id": "2c769963",
   "metadata": {},
   "outputs": [
    {
     "data": {
      "text/html": [
       "<div>\n",
       "<style scoped>\n",
       "    .dataframe tbody tr th:only-of-type {\n",
       "        vertical-align: middle;\n",
       "    }\n",
       "\n",
       "    .dataframe tbody tr th {\n",
       "        vertical-align: top;\n",
       "    }\n",
       "\n",
       "    .dataframe thead th {\n",
       "        text-align: right;\n",
       "    }\n",
       "</style>\n",
       "<table border=\"1\" class=\"dataframe\">\n",
       "  <thead>\n",
       "    <tr style=\"text-align: right;\">\n",
       "      <th></th>\n",
       "      <th>Rating</th>\n",
       "      <th>Company Name</th>\n",
       "      <th>Job Title</th>\n",
       "      <th>Salary</th>\n",
       "      <th>Salaries Reported</th>\n",
       "      <th>Location</th>\n",
       "    </tr>\n",
       "  </thead>\n",
       "  <tbody>\n",
       "    <tr>\n",
       "      <th>2</th>\n",
       "      <td>4.0</td>\n",
       "      <td>INDIA THE GREAT</td>\n",
       "      <td>Android Developer</td>\n",
       "      <td>1000000</td>\n",
       "      <td>3</td>\n",
       "      <td>Bangalore</td>\n",
       "    </tr>\n",
       "    <tr>\n",
       "      <th>4</th>\n",
       "      <td>4.4</td>\n",
       "      <td>INDIA THE GREAT</td>\n",
       "      <td>Android Developer</td>\n",
       "      <td>600000</td>\n",
       "      <td>3</td>\n",
       "      <td>Bangalore</td>\n",
       "    </tr>\n",
       "    <tr>\n",
       "      <th>9</th>\n",
       "      <td>3.6</td>\n",
       "      <td>INDIA THE GREAT</td>\n",
       "      <td>Android Developer</td>\n",
       "      <td>600000</td>\n",
       "      <td>3</td>\n",
       "      <td>Bangalore</td>\n",
       "    </tr>\n",
       "    <tr>\n",
       "      <th>12</th>\n",
       "      <td>3.7</td>\n",
       "      <td>Wibmo</td>\n",
       "      <td>Android Developer</td>\n",
       "      <td>900000</td>\n",
       "      <td>2</td>\n",
       "      <td>Bangalore</td>\n",
       "    </tr>\n",
       "    <tr>\n",
       "      <th>14</th>\n",
       "      <td>3.9</td>\n",
       "      <td>Bookmyshow</td>\n",
       "      <td>Android Developer</td>\n",
       "      <td>600000</td>\n",
       "      <td>2</td>\n",
       "      <td>Bangalore</td>\n",
       "    </tr>\n",
       "    <tr>\n",
       "      <th>16</th>\n",
       "      <td>3.6</td>\n",
       "      <td>Novopay Solutions</td>\n",
       "      <td>Android Developer</td>\n",
       "      <td>600000</td>\n",
       "      <td>2</td>\n",
       "      <td>Bangalore</td>\n",
       "    </tr>\n",
       "    <tr>\n",
       "      <th>18</th>\n",
       "      <td>4.0</td>\n",
       "      <td>J.P. Morgan</td>\n",
       "      <td>Android Developer</td>\n",
       "      <td>1000000</td>\n",
       "      <td>2</td>\n",
       "      <td>Bangalore</td>\n",
       "    </tr>\n",
       "    <tr>\n",
       "      <th>19</th>\n",
       "      <td>3.6</td>\n",
       "      <td>Acviss</td>\n",
       "      <td>Android Developer</td>\n",
       "      <td>500000</td>\n",
       "      <td>2</td>\n",
       "      <td>Bangalore</td>\n",
       "    </tr>\n",
       "    <tr>\n",
       "      <th>20</th>\n",
       "      <td>4.1</td>\n",
       "      <td>Fresher</td>\n",
       "      <td>Android Developer</td>\n",
       "      <td>408000</td>\n",
       "      <td>2</td>\n",
       "      <td>Bangalore</td>\n",
       "    </tr>\n",
       "    <tr>\n",
       "      <th>22</th>\n",
       "      <td>4.0</td>\n",
       "      <td>Nuclei</td>\n",
       "      <td>Android Developer</td>\n",
       "      <td>800000</td>\n",
       "      <td>2</td>\n",
       "      <td>Bangalore</td>\n",
       "    </tr>\n",
       "    <tr>\n",
       "      <th>25</th>\n",
       "      <td>3.6</td>\n",
       "      <td>Tech Mahindra</td>\n",
       "      <td>Android Developer</td>\n",
       "      <td>500000</td>\n",
       "      <td>2</td>\n",
       "      <td>Bangalore</td>\n",
       "    </tr>\n",
       "    <tr>\n",
       "      <th>27</th>\n",
       "      <td>4.9</td>\n",
       "      <td>Retranz Infolabs</td>\n",
       "      <td>Android Developer</td>\n",
       "      <td>500000</td>\n",
       "      <td>2</td>\n",
       "      <td>Bangalore</td>\n",
       "    </tr>\n",
       "    <tr>\n",
       "      <th>29</th>\n",
       "      <td>3.7</td>\n",
       "      <td>KrazyBee</td>\n",
       "      <td>Android Developer</td>\n",
       "      <td>708000</td>\n",
       "      <td>2</td>\n",
       "      <td>Bangalore</td>\n",
       "    </tr>\n",
       "    <tr>\n",
       "      <th>31</th>\n",
       "      <td>4.2</td>\n",
       "      <td>Dcoder</td>\n",
       "      <td>Android Developer</td>\n",
       "      <td>700000</td>\n",
       "      <td>2</td>\n",
       "      <td>Bangalore</td>\n",
       "    </tr>\n",
       "    <tr>\n",
       "      <th>32</th>\n",
       "      <td>4.6</td>\n",
       "      <td>Masai School</td>\n",
       "      <td>Android Developer</td>\n",
       "      <td>500000</td>\n",
       "      <td>2</td>\n",
       "      <td>Bangalore</td>\n",
       "    </tr>\n",
       "    <tr>\n",
       "      <th>33</th>\n",
       "      <td>3.9</td>\n",
       "      <td>Integra Micro Software Services (P)</td>\n",
       "      <td>Android Developer</td>\n",
       "      <td>500000</td>\n",
       "      <td>2</td>\n",
       "      <td>Bangalore</td>\n",
       "    </tr>\n",
       "    <tr>\n",
       "      <th>34</th>\n",
       "      <td>3.3</td>\n",
       "      <td>DocsApp</td>\n",
       "      <td>Android Developer</td>\n",
       "      <td>900000</td>\n",
       "      <td>2</td>\n",
       "      <td>Bangalore</td>\n",
       "    </tr>\n",
       "    <tr>\n",
       "      <th>38</th>\n",
       "      <td>3.8</td>\n",
       "      <td>Edelweiss Financial Services</td>\n",
       "      <td>Android Developer</td>\n",
       "      <td>600000</td>\n",
       "      <td>2</td>\n",
       "      <td>Bangalore</td>\n",
       "    </tr>\n",
       "    <tr>\n",
       "      <th>40</th>\n",
       "      <td>3.5</td>\n",
       "      <td>L&amp;T Technology Services</td>\n",
       "      <td>Android Developer</td>\n",
       "      <td>500000</td>\n",
       "      <td>2</td>\n",
       "      <td>Bangalore</td>\n",
       "    </tr>\n",
       "    <tr>\n",
       "      <th>44</th>\n",
       "      <td>4.1</td>\n",
       "      <td>IBM</td>\n",
       "      <td>Android Developer</td>\n",
       "      <td>540000</td>\n",
       "      <td>2</td>\n",
       "      <td>Bangalore</td>\n",
       "    </tr>\n",
       "    <tr>\n",
       "      <th>46</th>\n",
       "      <td>3.9</td>\n",
       "      <td>Knitter</td>\n",
       "      <td>Android Developer</td>\n",
       "      <td>500000</td>\n",
       "      <td>2</td>\n",
       "      <td>Bangalore</td>\n",
       "    </tr>\n",
       "    <tr>\n",
       "      <th>50</th>\n",
       "      <td>4.8</td>\n",
       "      <td>CRK Gida Technologies</td>\n",
       "      <td>Android Developer</td>\n",
       "      <td>700000</td>\n",
       "      <td>2</td>\n",
       "      <td>Bangalore</td>\n",
       "    </tr>\n",
       "  </tbody>\n",
       "</table>\n",
       "</div>"
      ],
      "text/plain": [
       "    Rating                         Company Name          Job Title   Salary  \\\n",
       "2      4.0                      INDIA THE GREAT  Android Developer  1000000   \n",
       "4      4.4                      INDIA THE GREAT  Android Developer   600000   \n",
       "9      3.6                      INDIA THE GREAT  Android Developer   600000   \n",
       "12     3.7                                Wibmo  Android Developer   900000   \n",
       "14     3.9                           Bookmyshow  Android Developer   600000   \n",
       "16     3.6                    Novopay Solutions  Android Developer   600000   \n",
       "18     4.0                          J.P. Morgan  Android Developer  1000000   \n",
       "19     3.6                               Acviss  Android Developer   500000   \n",
       "20     4.1                              Fresher  Android Developer   408000   \n",
       "22     4.0                               Nuclei  Android Developer   800000   \n",
       "25     3.6                        Tech Mahindra  Android Developer   500000   \n",
       "27     4.9                     Retranz Infolabs  Android Developer   500000   \n",
       "29     3.7                             KrazyBee  Android Developer   708000   \n",
       "31     4.2                               Dcoder  Android Developer   700000   \n",
       "32     4.6                         Masai School  Android Developer   500000   \n",
       "33     3.9  Integra Micro Software Services (P)  Android Developer   500000   \n",
       "34     3.3                              DocsApp  Android Developer   900000   \n",
       "38     3.8         Edelweiss Financial Services  Android Developer   600000   \n",
       "40     3.5              L&T Technology Services  Android Developer   500000   \n",
       "44     4.1                                  IBM  Android Developer   540000   \n",
       "46     3.9                              Knitter  Android Developer   500000   \n",
       "50     4.8                CRK Gida Technologies  Android Developer   700000   \n",
       "\n",
       "    Salaries Reported   Location  \n",
       "2                   3  Bangalore  \n",
       "4                   3  Bangalore  \n",
       "9                   3  Bangalore  \n",
       "12                  2  Bangalore  \n",
       "14                  2  Bangalore  \n",
       "16                  2  Bangalore  \n",
       "18                  2  Bangalore  \n",
       "19                  2  Bangalore  \n",
       "20                  2  Bangalore  \n",
       "22                  2  Bangalore  \n",
       "25                  2  Bangalore  \n",
       "27                  2  Bangalore  \n",
       "29                  2  Bangalore  \n",
       "31                  2  Bangalore  \n",
       "32                  2  Bangalore  \n",
       "33                  2  Bangalore  \n",
       "34                  2  Bangalore  \n",
       "38                  2  Bangalore  \n",
       "40                  2  Bangalore  \n",
       "44                  2  Bangalore  \n",
       "46                  2  Bangalore  \n",
       "50                  2  Bangalore  "
      ]
     },
     "execution_count": 72,
     "metadata": {},
     "output_type": "execute_result"
    }
   ],
   "source": [
    "rich=da['Salary']>400000\n",
    "rich\n",
    "da[rich].loc[:50\n",
    "            ]"
   ]
  },
  {
   "cell_type": "code",
   "execution_count": 73,
   "id": "a68bcc7a",
   "metadata": {},
   "outputs": [
    {
     "data": {
      "text/plain": [
       "695360.621761658"
      ]
     },
     "execution_count": 73,
     "metadata": {},
     "output_type": "execute_result"
    }
   ],
   "source": [
    "da['Salary'].mean()"
   ]
  },
  {
   "cell_type": "code",
   "execution_count": 78,
   "id": "e8c98d53",
   "metadata": {},
   "outputs": [
    {
     "data": {
      "text/plain": [
       "500000.0"
      ]
     },
     "execution_count": 78,
     "metadata": {},
     "output_type": "execute_result"
    }
   ],
   "source": [
    "\n",
    "\n",
    "da['Salary'].median()"
   ]
  },
  {
   "cell_type": "code",
   "execution_count": 281,
   "id": "cdd548aa",
   "metadata": {},
   "outputs": [
    {
     "data": {
      "text/html": [
       "<div>\n",
       "<style scoped>\n",
       "    .dataframe tbody tr th:only-of-type {\n",
       "        vertical-align: middle;\n",
       "    }\n",
       "\n",
       "    .dataframe tbody tr th {\n",
       "        vertical-align: top;\n",
       "    }\n",
       "\n",
       "    .dataframe thead th {\n",
       "        text-align: right;\n",
       "    }\n",
       "</style>\n",
       "<table border=\"1\" class=\"dataframe\">\n",
       "  <thead>\n",
       "    <tr style=\"text-align: right;\">\n",
       "      <th></th>\n",
       "      <th>v1</th>\n",
       "      <th>Unnamed: 2</th>\n",
       "      <th>Unnamed: 3</th>\n",
       "      <th>Unnamed: 4</th>\n",
       "    </tr>\n",
       "    <tr>\n",
       "      <th>v2</th>\n",
       "      <th></th>\n",
       "      <th></th>\n",
       "      <th></th>\n",
       "      <th></th>\n",
       "    </tr>\n",
       "  </thead>\n",
       "  <tbody>\n",
       "    <tr>\n",
       "      <th>&amp;lt;#&amp;gt;  in mca. But not conform.</th>\n",
       "      <td>ham</td>\n",
       "      <td>0</td>\n",
       "      <td>0</td>\n",
       "      <td>0</td>\n",
       "    </tr>\n",
       "    <tr>\n",
       "      <th>&amp;lt;#&amp;gt;  mins but i had to stop somewhere first.</th>\n",
       "      <td>ham</td>\n",
       "      <td>0</td>\n",
       "      <td>0</td>\n",
       "      <td>0</td>\n",
       "    </tr>\n",
       "    <tr>\n",
       "      <th>&amp;lt;DECIMAL&amp;gt; m but its not a common car here so its better to buy from china or asia. Or if i find it less expensive. I.ll holla</th>\n",
       "      <td>ham</td>\n",
       "      <td>0</td>\n",
       "      <td>0</td>\n",
       "      <td>0</td>\n",
       "    </tr>\n",
       "    <tr>\n",
       "      <th>all write or wat..</th>\n",
       "      <td>ham</td>\n",
       "      <td>0</td>\n",
       "      <td>0</td>\n",
       "      <td>0</td>\n",
       "    </tr>\n",
       "    <tr>\n",
       "      <th>and  picking them up from various points</th>\n",
       "      <td>ham</td>\n",
       "      <td>0</td>\n",
       "      <td>0</td>\n",
       "      <td>0</td>\n",
       "    </tr>\n",
       "    <tr>\n",
       "      <th>...</th>\n",
       "      <td>...</td>\n",
       "      <td>...</td>\n",
       "      <td>...</td>\n",
       "      <td>...</td>\n",
       "    </tr>\n",
       "    <tr>\n",
       "      <th>yay! finally lol. i missed our cinema trip last week :-(</th>\n",
       "      <td>ham</td>\n",
       "      <td>0</td>\n",
       "      <td>0</td>\n",
       "      <td>0</td>\n",
       "    </tr>\n",
       "    <tr>\n",
       "      <th>yeah sure thing mate haunt got all my stuff sorted but im going sound anyway promoting hex for .by the way who is this? dont know number. Joke</th>\n",
       "      <td>ham</td>\n",
       "      <td>0</td>\n",
       "      <td>0</td>\n",
       "      <td>0</td>\n",
       "    </tr>\n",
       "    <tr>\n",
       "      <th>yeah, that's what I was thinking</th>\n",
       "      <td>ham</td>\n",
       "      <td>0</td>\n",
       "      <td>0</td>\n",
       "      <td>0</td>\n",
       "    </tr>\n",
       "    <tr>\n",
       "      <th>yes baby! I need to stretch open your pussy!</th>\n",
       "      <td>ham</td>\n",
       "      <td>0</td>\n",
       "      <td>0</td>\n",
       "      <td>0</td>\n",
       "    </tr>\n",
       "    <tr>\n",
       "      <th>you are sweet as well, princess. Please tell me your likes and dislikes in bed...</th>\n",
       "      <td>ham</td>\n",
       "      <td>0</td>\n",
       "      <td>0</td>\n",
       "      <td>0</td>\n",
       "    </tr>\n",
       "  </tbody>\n",
       "</table>\n",
       "<p>5168 rows × 4 columns</p>\n",
       "</div>"
      ],
      "text/plain": [
       "                                                     v1 Unnamed: 2 Unnamed: 3  \\\n",
       "v2                                                                              \n",
       " &lt;#&gt;  in mca. But not conform.                ham          0          0   \n",
       " &lt;#&gt;  mins but i had to stop somewhere fi...  ham          0          0   \n",
       " &lt;DECIMAL&gt; m but its not a common car her...  ham          0          0   \n",
       " all write or wat..                                 ham          0          0   \n",
       " and  picking them up from various points           ham          0          0   \n",
       "...                                                 ...        ...        ...   \n",
       "yay! finally lol. i missed our cinema trip last...  ham          0          0   \n",
       "yeah sure thing mate haunt got all my stuff sor...  ham          0          0   \n",
       "yeah, that's what I was thinking                    ham          0          0   \n",
       "yes baby! I need to stretch open your pussy!        ham          0          0   \n",
       "you are sweet as well, princess. Please tell me...  ham          0          0   \n",
       "\n",
       "                                                   Unnamed: 4  \n",
       "v2                                                             \n",
       " &lt;#&gt;  in mca. But not conform.                        0  \n",
       " &lt;#&gt;  mins but i had to stop somewhere fi...          0  \n",
       " &lt;DECIMAL&gt; m but its not a common car her...          0  \n",
       " all write or wat..                                         0  \n",
       " and  picking them up from various points                   0  \n",
       "...                                                       ...  \n",
       "yay! finally lol. i missed our cinema trip last...          0  \n",
       "yeah sure thing mate haunt got all my stuff sor...          0  \n",
       "yeah, that's what I was thinking                            0  \n",
       "yes baby! I need to stretch open your pussy!                0  \n",
       "you are sweet as well, princess. Please tell me...          0  \n",
       "\n",
       "[5168 rows x 4 columns]"
      ]
     },
     "execution_count": 281,
     "metadata": {},
     "output_type": "execute_result"
    }
   ],
   "source": [
    "df.groupby('v2').sum()"
   ]
  },
  {
   "cell_type": "code",
   "execution_count": 100,
   "id": "2f9d65d5",
   "metadata": {},
   "outputs": [
    {
     "data": {
      "text/html": [
       "<div>\n",
       "<style scoped>\n",
       "    .dataframe tbody tr th:only-of-type {\n",
       "        vertical-align: middle;\n",
       "    }\n",
       "\n",
       "    .dataframe tbody tr th {\n",
       "        vertical-align: top;\n",
       "    }\n",
       "\n",
       "    .dataframe thead th {\n",
       "        text-align: right;\n",
       "    }\n",
       "</style>\n",
       "<table border=\"1\" class=\"dataframe\">\n",
       "  <thead>\n",
       "    <tr style=\"text-align: right;\">\n",
       "      <th></th>\n",
       "      <th>Rating</th>\n",
       "      <th>Salary</th>\n",
       "      <th>Salaries Reported</th>\n",
       "    </tr>\n",
       "    <tr>\n",
       "      <th>Company Name</th>\n",
       "      <th></th>\n",
       "      <th></th>\n",
       "      <th></th>\n",
       "    </tr>\n",
       "  </thead>\n",
       "  <tbody>\n",
       "    <tr>\n",
       "      <th>(X,Y,Z) Architecture &amp; Design</th>\n",
       "      <td>4.00</td>\n",
       "      <td>1000000.0</td>\n",
       "      <td>1.0</td>\n",
       "    </tr>\n",
       "    <tr>\n",
       "      <th>(no)name</th>\n",
       "      <td>4.00</td>\n",
       "      <td>469000.0</td>\n",
       "      <td>1.0</td>\n",
       "    </tr>\n",
       "    <tr>\n",
       "      <th>-</th>\n",
       "      <td>3.95</td>\n",
       "      <td>500000.0</td>\n",
       "      <td>1.0</td>\n",
       "    </tr>\n",
       "    <tr>\n",
       "      <th>....</th>\n",
       "      <td>4.00</td>\n",
       "      <td>12000.0</td>\n",
       "      <td>1.0</td>\n",
       "    </tr>\n",
       "    <tr>\n",
       "      <th>.Kreate</th>\n",
       "      <td>4.50</td>\n",
       "      <td>290000.0</td>\n",
       "      <td>1.5</td>\n",
       "    </tr>\n",
       "    <tr>\n",
       "      <th>...</th>\n",
       "      <td>...</td>\n",
       "      <td>...</td>\n",
       "      <td>...</td>\n",
       "    </tr>\n",
       "    <tr>\n",
       "      <th>zekeLabs</th>\n",
       "      <td>4.40</td>\n",
       "      <td>96000.0</td>\n",
       "      <td>1.0</td>\n",
       "    </tr>\n",
       "    <tr>\n",
       "      <th>Ás Formaturas</th>\n",
       "      <td>3.60</td>\n",
       "      <td>900000.0</td>\n",
       "      <td>1.0</td>\n",
       "    </tr>\n",
       "    <tr>\n",
       "      <th>Órama</th>\n",
       "      <td>3.50</td>\n",
       "      <td>1200000.0</td>\n",
       "      <td>1.0</td>\n",
       "    </tr>\n",
       "    <tr>\n",
       "      <th>​App-Scoop</th>\n",
       "      <td>4.50</td>\n",
       "      <td>500000.0</td>\n",
       "      <td>1.0</td>\n",
       "    </tr>\n",
       "    <tr>\n",
       "      <th>‎eNotice Ninja Pluss</th>\n",
       "      <td>3.80</td>\n",
       "      <td>400000.0</td>\n",
       "      <td>1.0</td>\n",
       "    </tr>\n",
       "  </tbody>\n",
       "</table>\n",
       "<p>11260 rows × 3 columns</p>\n",
       "</div>"
      ],
      "text/plain": [
       "                               Rating     Salary  Salaries Reported\n",
       "Company Name                                                       \n",
       "(X,Y,Z) Architecture & Design    4.00  1000000.0                1.0\n",
       "(no)name                         4.00   469000.0                1.0\n",
       "-                                3.95   500000.0                1.0\n",
       "....                             4.00    12000.0                1.0\n",
       ".Kreate                          4.50   290000.0                1.5\n",
       "...                               ...        ...                ...\n",
       "zekeLabs                         4.40    96000.0                1.0\n",
       "Ás Formaturas                    3.60   900000.0                1.0\n",
       "Órama                            3.50  1200000.0                1.0\n",
       "​App-Scoop                       4.50   500000.0                1.0\n",
       "‎eNotice Ninja Pluss             3.80   400000.0                1.0\n",
       "\n",
       "[11260 rows x 3 columns]"
      ]
     },
     "execution_count": 100,
     "metadata": {},
     "output_type": "execute_result"
    }
   ],
   "source": [
    "da.groupby('Company Name').median()"
   ]
  },
  {
   "cell_type": "code",
   "execution_count": 88,
   "id": "72f44d2d",
   "metadata": {},
   "outputs": [
    {
     "data": {
      "text/html": [
       "<div>\n",
       "<style scoped>\n",
       "    .dataframe tbody tr th:only-of-type {\n",
       "        vertical-align: middle;\n",
       "    }\n",
       "\n",
       "    .dataframe tbody tr th {\n",
       "        vertical-align: top;\n",
       "    }\n",
       "\n",
       "    .dataframe thead th {\n",
       "        text-align: right;\n",
       "    }\n",
       "</style>\n",
       "<table border=\"1\" class=\"dataframe\">\n",
       "  <thead>\n",
       "    <tr style=\"text-align: right;\">\n",
       "      <th></th>\n",
       "      <th>Rating</th>\n",
       "      <th>Company Name</th>\n",
       "      <th>Job Title</th>\n",
       "      <th>Salary</th>\n",
       "      <th>Salaries Reported</th>\n",
       "      <th>Location</th>\n",
       "    </tr>\n",
       "  </thead>\n",
       "  <tbody>\n",
       "    <tr>\n",
       "      <th>0</th>\n",
       "      <td>3.8</td>\n",
       "      <td>Sasken</td>\n",
       "      <td>Android Developer</td>\n",
       "      <td>400000</td>\n",
       "      <td>3</td>\n",
       "      <td>Bangalore</td>\n",
       "    </tr>\n",
       "    <tr>\n",
       "      <th>1</th>\n",
       "      <td>4.5</td>\n",
       "      <td>INDIA THE GREAT</td>\n",
       "      <td>Android Developer</td>\n",
       "      <td>400000</td>\n",
       "      <td>3</td>\n",
       "      <td>Bangalore</td>\n",
       "    </tr>\n",
       "    <tr>\n",
       "      <th>2</th>\n",
       "      <td>4.0</td>\n",
       "      <td>INDIA THE GREAT</td>\n",
       "      <td>Android Developer</td>\n",
       "      <td>1000000</td>\n",
       "      <td>3</td>\n",
       "      <td>Bangalore</td>\n",
       "    </tr>\n",
       "    <tr>\n",
       "      <th>3</th>\n",
       "      <td>3.8</td>\n",
       "      <td>INDIA THE GREAT</td>\n",
       "      <td>Android Developer</td>\n",
       "      <td>300000</td>\n",
       "      <td>3</td>\n",
       "      <td>Bangalore</td>\n",
       "    </tr>\n",
       "    <tr>\n",
       "      <th>4</th>\n",
       "      <td>4.4</td>\n",
       "      <td>INDIA THE GREAT</td>\n",
       "      <td>Android Developer</td>\n",
       "      <td>600000</td>\n",
       "      <td>3</td>\n",
       "      <td>Bangalore</td>\n",
       "    </tr>\n",
       "  </tbody>\n",
       "</table>\n",
       "</div>"
      ],
      "text/plain": [
       "   Rating     Company Name          Job Title   Salary  Salaries Reported  \\\n",
       "0     3.8           Sasken  Android Developer   400000                  3   \n",
       "1     4.5  INDIA THE GREAT  Android Developer   400000                  3   \n",
       "2     4.0  INDIA THE GREAT  Android Developer  1000000                  3   \n",
       "3     3.8  INDIA THE GREAT  Android Developer   300000                  3   \n",
       "4     4.4  INDIA THE GREAT  Android Developer   600000                  3   \n",
       "\n",
       "    Location  \n",
       "0  Bangalore  \n",
       "1  Bangalore  \n",
       "2  Bangalore  \n",
       "3  Bangalore  \n",
       "4  Bangalore  "
      ]
     },
     "execution_count": 88,
     "metadata": {},
     "output_type": "execute_result"
    }
   ],
   "source": [
    "da.head()"
   ]
  },
  {
   "cell_type": "code",
   "execution_count": 91,
   "id": "12aee3cc",
   "metadata": {},
   "outputs": [
    {
     "name": "stdout",
     "output_type": "stream",
     "text": [
      "<class 'pandas.core.frame.DataFrame'>\n",
      "RangeIndex: 22774 entries, 0 to 22773\n",
      "Data columns (total 6 columns):\n",
      " #   Column             Non-Null Count  Dtype  \n",
      "---  ------             --------------  -----  \n",
      " 0   Rating             22774 non-null  float64\n",
      " 1   Company Name       22774 non-null  object \n",
      " 2   Job Title          22774 non-null  object \n",
      " 3   Salary             22774 non-null  int64  \n",
      " 4   Salaries Reported  22774 non-null  int64  \n",
      " 5   Location           22774 non-null  object \n",
      "dtypes: float64(1), int64(2), object(3)\n",
      "memory usage: 1.0+ MB\n"
     ]
    }
   ],
   "source": [
    "da.info()"
   ]
  },
  {
   "cell_type": "code",
   "execution_count": 104,
   "id": "a1f80c1c",
   "metadata": {},
   "outputs": [
    {
     "data": {
      "text/html": [
       "<div>\n",
       "<style scoped>\n",
       "    .dataframe tbody tr th:only-of-type {\n",
       "        vertical-align: middle;\n",
       "    }\n",
       "\n",
       "    .dataframe tbody tr th {\n",
       "        vertical-align: top;\n",
       "    }\n",
       "\n",
       "    .dataframe thead th {\n",
       "        text-align: right;\n",
       "    }\n",
       "</style>\n",
       "<table border=\"1\" class=\"dataframe\">\n",
       "  <thead>\n",
       "    <tr style=\"text-align: right;\">\n",
       "      <th></th>\n",
       "      <th>Rating</th>\n",
       "      <th>Salary</th>\n",
       "      <th>Salaries Reported</th>\n",
       "    </tr>\n",
       "    <tr>\n",
       "      <th>Location</th>\n",
       "      <th></th>\n",
       "      <th></th>\n",
       "      <th></th>\n",
       "    </tr>\n",
       "  </thead>\n",
       "  <tbody>\n",
       "    <tr>\n",
       "      <th>Bangalore</th>\n",
       "      <td>3.920230</td>\n",
       "      <td>735352.562371</td>\n",
       "      <td>2.313975</td>\n",
       "    </tr>\n",
       "    <tr>\n",
       "      <th>Chennai</th>\n",
       "      <td>3.902726</td>\n",
       "      <td>584559.661513</td>\n",
       "      <td>1.366965</td>\n",
       "    </tr>\n",
       "    <tr>\n",
       "      <th>Hyderabad</th>\n",
       "      <td>3.914705</td>\n",
       "      <td>679036.691137</td>\n",
       "      <td>2.053491</td>\n",
       "    </tr>\n",
       "    <tr>\n",
       "      <th>Jaipur</th>\n",
       "      <td>3.936585</td>\n",
       "      <td>628487.804878</td>\n",
       "      <td>1.146341</td>\n",
       "    </tr>\n",
       "    <tr>\n",
       "      <th>Kerala</th>\n",
       "      <td>3.885185</td>\n",
       "      <td>553577.481481</td>\n",
       "      <td>1.231481</td>\n",
       "    </tr>\n",
       "    <tr>\n",
       "      <th>Kolkata</th>\n",
       "      <td>4.024719</td>\n",
       "      <td>710925.573034</td>\n",
       "      <td>1.359551</td>\n",
       "    </tr>\n",
       "    <tr>\n",
       "      <th>Madhya Pradesh</th>\n",
       "      <td>3.992258</td>\n",
       "      <td>677641.909677</td>\n",
       "      <td>1.116129</td>\n",
       "    </tr>\n",
       "    <tr>\n",
       "      <th>Mumbai</th>\n",
       "      <td>3.881709</td>\n",
       "      <td>961180.368491</td>\n",
       "      <td>1.297730</td>\n",
       "    </tr>\n",
       "    <tr>\n",
       "      <th>New Delhi</th>\n",
       "      <td>3.943415</td>\n",
       "      <td>658756.735632</td>\n",
       "      <td>1.497126</td>\n",
       "    </tr>\n",
       "    <tr>\n",
       "      <th>Pune</th>\n",
       "      <td>3.886183</td>\n",
       "      <td>690340.256674</td>\n",
       "      <td>1.280562</td>\n",
       "    </tr>\n",
       "  </tbody>\n",
       "</table>\n",
       "</div>"
      ],
      "text/plain": [
       "                  Rating         Salary  Salaries Reported\n",
       "Location                                                  \n",
       "Bangalore       3.920230  735352.562371           2.313975\n",
       "Chennai         3.902726  584559.661513           1.366965\n",
       "Hyderabad       3.914705  679036.691137           2.053491\n",
       "Jaipur          3.936585  628487.804878           1.146341\n",
       "Kerala          3.885185  553577.481481           1.231481\n",
       "Kolkata         4.024719  710925.573034           1.359551\n",
       "Madhya Pradesh  3.992258  677641.909677           1.116129\n",
       "Mumbai          3.881709  961180.368491           1.297730\n",
       "New Delhi       3.943415  658756.735632           1.497126\n",
       "Pune            3.886183  690340.256674           1.280562"
      ]
     },
     "execution_count": 104,
     "metadata": {},
     "output_type": "execute_result"
    }
   ],
   "source": [
    "da.groupby('Location').mean()"
   ]
  },
  {
   "cell_type": "code",
   "execution_count": 106,
   "id": "ae3c66b6",
   "metadata": {},
   "outputs": [
    {
     "data": {
      "text/plain": [
       "Bangalore         8265\n",
       "Hyderabad         4468\n",
       "New Delhi         4176\n",
       "Chennai           2458\n",
       "Pune              2135\n",
       "Mumbai             749\n",
       "Kolkata            178\n",
       "Madhya Pradesh     155\n",
       "Kerala             108\n",
       "Jaipur              82\n",
       "Name: Location, dtype: int64"
      ]
     },
     "execution_count": 106,
     "metadata": {},
     "output_type": "execute_result"
    }
   ],
   "source": [
    "da['Location'].value_counts()"
   ]
  },
  {
   "cell_type": "code",
   "execution_count": 160,
   "id": "85cc83b3",
   "metadata": {},
   "outputs": [
    {
     "data": {
      "image/png": "[encoded data removed]",
      "text/plain": [
       "<Figure size 432x288 with 1 Axes>"
      ]
     },
     "metadata": {
      "needs_background": "light"
     },
     "output_type": "display_data"
    }
   ],
   "source": [
    "import matplotlib.pyplot as plt\n",
    "import numpy as np\n",
    "\n",
    "x = np.arange(0,3*np.pi,0.1)\n",
    "y = np.cos(x)\n",
    "\n",
    "plt.plot(x, y,'o')\n",
    "plt.xlabel('X-Axis')\n",
    "plt.ylabel('Y-Axis')\n",
    "plt.title('COS-X')\n",
    "plt.show()"
   ]
  },
  {
   "cell_type": "code",
   "execution_count": 185,
   "id": "5c765dea",
   "metadata": {},
   "outputs": [
    {
     "name": "stdout",
     "output_type": "stream",
     "text": [
      "3.5.1\n"
     ]
    }
   ],
   "source": [
    "import matplotlib\n",
    "\n",
    "print(matplotlib.__version__)\n"
   ]
  },
  {
   "cell_type": "code",
   "execution_count": 296,
   "id": "bb26fd9a",
   "metadata": {},
   "outputs": [
    {
     "data": {
      "image/png": "[encoded data removed]",
      "text/plain": [
       "<Figure size 432x288 with 1 Axes>"
      ]
     },
     "metadata": {
      "needs_background": "light"
     },
     "output_type": "display_data"
    }
   ],
   "source": [
    "import matplotlib.pyplot as plt\n",
    "import numpy as np\n",
    "\n",
    "xpoints = np.arange(0,20)\n",
    "ypoints = np.tan(xpoints)\n",
    "\n",
    "plt.plot(xpoints, ypoints,marker='o')\n",
    "plt.show()"
   ]
  },
  {
   "cell_type": "code",
   "execution_count": 297,
   "id": "56e8c6fb",
   "metadata": {},
   "outputs": [
    {
     "data": {
      "image/png": "[encoded data removed]",
      "text/plain": [
       "<Figure size 432x288 with 1 Axes>"
      ]
     },
     "metadata": {
      "needs_background": "light"
     },
     "output_type": "display_data"
    }
   ],
   "source": [
    "plt.plot(ypoints, xpoints,marker='*')\n",
    "\n",
    "plt.show()"
   ]
  },
  {
   "cell_type": "markdown",
   "id": "b03827bc",
   "metadata": {},
   "source": [
    "Shorter Syntax\n",
    "The line style can be written in a shorter syntax:\n",
    "\n",
    "linestyle can be written as ls.\n",
    "\n",
    "dotted can be written as (:).\n",
    "\n",
    "dashed can be written as --."
   ]
  },
  {
   "cell_type": "code",
   "execution_count": 187,
   "id": "0ec2e058",
   "metadata": {},
   "outputs": [
    {
     "data": {
      "image/png": "[encoded data removed]",
      "text/plain": [
       "<Figure size 432x288 with 1 Axes>"
      ]
     },
     "metadata": {
      "needs_background": "light"
     },
     "output_type": "display_data"
    }
   ],
   "source": [
    "plt.plot(ypoints, xpoints,marker='*',ls=':')\n",
    "plt.show()"
   ]
  },
  {
   "cell_type": "code",
   "execution_count": 189,
   "id": "4fa43876",
   "metadata": {},
   "outputs": [
    {
     "data": {
      "image/png": "[encoded data removed]",
      "text/plain": [
       "<Figure size 432x288 with 1 Axes>"
      ]
     },
     "metadata": {
      "needs_background": "light"
     },
     "output_type": "display_data"
    }
   ],
   "source": [
    "plt.plot(ypoints, xpoints,marker='*',ls='--')\n",
    "plt.show()\n",
    "#'--'-> Dashed"
   ]
  },
  {
   "cell_type": "markdown",
   "id": "6bd52c7d",
   "metadata": {},
   "source": [
    "Line Styles\n",
    "You can choose any of these styles:\n",
    "\n",
    "Style\tOr\n",
    "'solid' (default)\t'-'\t\n",
    "'dotted'\t':'\t\n",
    "'dashed'\t'--'\t\n",
    "'dashdot'\t'-.'\t\n",
    "'None'\t'' or ' '\t"
   ]
  },
  {
   "cell_type": "code",
   "execution_count": 192,
   "id": "ef0c777e",
   "metadata": {},
   "outputs": [
    {
     "data": {
      "image/png": "[encoded data removed]",
      "text/plain": [
       "<Figure size 432x288 with 1 Axes>"
      ]
     },
     "metadata": {
      "needs_background": "light"
     },
     "output_type": "display_data"
    }
   ],
   "source": [
    "plt.plot(ypoints, xpoints,marker='*',ls='-')\n",
    "plt.show()"
   ]
  },
  {
   "cell_type": "code",
   "execution_count": 194,
   "id": "32339382",
   "metadata": {},
   "outputs": [
    {
     "data": {
      "image/png": "[encoded data removed]",
      "text/plain": [
       "<Figure size 432x288 with 1 Axes>"
      ]
     },
     "metadata": {
      "needs_background": "light"
     },
     "output_type": "display_data"
    }
   ],
   "source": [
    "plt.plot(ypoints, xpoints,marker='*',ls='-.')\n",
    "plt.show()"
   ]
  },
  {
   "cell_type": "code",
   "execution_count": 196,
   "id": "038345fe",
   "metadata": {},
   "outputs": [
    {
     "data": {
      "image/png": "[encoded data removed]",
      "text/plain": [
       "<Figure size 432x288 with 1 Axes>"
      ]
     },
     "metadata": {
      "needs_background": "light"
     },
     "output_type": "display_data"
    }
   ],
   "source": [
    "plt.plot(ypoints, xpoints,marker='*',ls='none')\n",
    "plt.show()"
   ]
  },
  {
   "cell_type": "code",
   "execution_count": 300,
   "id": "88820b6f",
   "metadata": {},
   "outputs": [
    {
     "data": {
      "image/png": "[encoded data removed]",
      "text/plain": [
       "<Figure size 432x288 with 1 Axes>"
      ]
     },
     "metadata": {
      "needs_background": "light"
     },
     "output_type": "display_data"
    }
   ],
   "source": [
    "plt.plot(ypoints, xpoints,marker='*',ls='')\n",
    "plt.show()"
   ]
  },
  {
   "cell_type": "code",
   "execution_count": 308,
   "id": "006b28bb",
   "metadata": {},
   "outputs": [
    {
     "data": {
      "image/png": "[encoded data removed]",
      "text/plain": [
       "<Figure size 432x288 with 1 Axes>"
      ]
     },
     "metadata": {
      "needs_background": "light"
     },
     "output_type": "display_data"
    }
   ],
   "source": [
    "import matplotlib.pyplot as plt\n",
    "#import pandas as pd\n",
    "import numpy as np\n",
    "\n",
    "x1=np.arange(0,3*np.pi,0.01)\n",
    "y1=np.sin(x1)\n",
    "plt.plot(x1,y1,label='SIN-X')\n",
    "y2=np.cos(x1)\n",
    "plt.plot(x1,y2,label='COS-X')\n",
    "plt.xlabel('x-AXIS')\n",
    "plt.ylabel('y-AXIS')\n",
    "plt.legend()\n",
    "plt.show()"
   ]
  },
  {
   "attachments": {
    "download.png": {
     "image/png": "[encoded data removed]"
    }
   },
   "cell_type": "markdown",
   "id": "ae42d6e1",
   "metadata": {},
   "source": [
    "\n",
    "# Colours of the line\n",
    "can use colour name orhexa deccimal colour vaue\n",
    "\n",
    "AliceBlue\n",
    "#F0F8FF\n",
    "AntiqueWhite\n",
    "#FAEBD7\n",
    "Aqua\n",
    "#00FFFF\n",
    "Aquamarine\n",
    "#7FFFD4\n",
    "Azure\n",
    "#F0FFFF\n",
    "Beige\n",
    "#F5F5DC\n",
    "Bisque\n",
    "#FFE4C4\n",
    "Black\n",
    "#000000\n",
    "BlanchedAlmond\n",
    "#FFEBCD\n",
    "Blue\n",
    "#0000FF\n",
    "BlueViolet\n",
    "#8A2BE2\n",
    "Brown\n",
    "#A52A2A\n",
    "BurlyWood\n",
    "#DEB887\n",
    "CadetBlue\n",
    "#5F9EA0\n",
    "Chartreuse\n",
    "#7FFF00\n",
    "Chocolate\n",
    "#D2691E\n",
    "Coral\n",
    "#FF7F50\n",
    "CornflowerBlue\n",
    "#6495ED\n",
    "Cornsilk\n",
    "#FFF8DC\n",
    "Crimson\n",
    "#DC143C\n",
    "Cyan\n",
    "#00FFFF\n",
    "DarkBlue\n",
    "#00008B\n",
    "DarkCyan\n",
    "#008B8B\n",
    "DarkGoldenRod\n",
    "#B8860B\n",
    "DarkGray\n",
    "#A9A9A9\n",
    "DarkGrey\n",
    "#A9A9A9\n",
    "DarkGreen\n",
    "#006400\n",
    "DarkKhaki\n",
    "#BDB76B\n",
    "DarkMagenta\n",
    "#8B008B\n",
    "DarkOliveGreen\n",
    "#556B2F\n",
    "DarkOrange\n",
    "#FF8C00\n",
    "DarkOrchid\n",
    "#9932CC\n",
    "DarkRed\n",
    "#8B0000\n",
    "DarkSalmon\n",
    "#E9967A\n",
    "DarkSeaGreen\n",
    "#8FBC8F\n",
    "DarkSlateBlue\n",
    "#483D8B\n",
    "DarkSlateGray\n",
    "#2F4F4F\n",
    "DarkSlateGrey\n",
    "#2F4F4F\n",
    "DarkTurquoise\n",
    "#00CED1\n",
    "DarkViolet\n",
    "#9400D3\n",
    "DeepPink\n",
    "#FF1493\n",
    "DeepSkyBlue\n",
    "#00BFFF\n",
    "DimGray\n",
    "#696969\n",
    "DimGrey\n",
    "#696969\n",
    "DodgerBlue\n",
    "#1E90FF\n",
    "FireBrick\n",
    "#B22222\n",
    "FloralWhite\n",
    "#FFFAF0\n",
    "ForestGreen\n",
    "#228B22\n",
    "Fuchsia\n",
    "#FF00FF\n",
    "Gainsboro\n",
    "#DCDCDC\n",
    "GhostWhite\n",
    "#F8F8FF\n",
    "Gold\n",
    "#FFD700\n",
    "GoldenRod\n",
    "#DAA520\n",
    "Gray\n",
    "#808080\n",
    "Grey\n",
    "#808080\n",
    "Green\n",
    "#008000\n",
    "GreenYellow\n",
    "#ADFF2F\n",
    "HoneyDew\n",
    "#F0FFF0\n",
    "HotPink\n",
    "#FF69B4\n",
    "IndianRed\n",
    "#CD5C5C\n",
    "Indigo\n",
    "#4B0082\n",
    "Ivory\n",
    "#FFFFF0\n",
    "Khaki\n",
    "#F0E68C\n",
    "Lavender\n",
    "#E6E6FA\n",
    "LavenderBlush\n",
    "#FFF0F5\n",
    "LawnGreen\n",
    "#7CFC00\n",
    "LemonChiffon\n",
    "#FFFACD\n",
    "LightBlue\n",
    "#ADD8E6\n",
    "LightCoral\n",
    "#F08080\n",
    "LightCyan\n",
    "#E0FFFF\n",
    "LightGoldenRodYellow\n",
    "#FAFAD2\n",
    "LightGray\n",
    "#D3D3D3\n",
    "LightGrey\n",
    "#D3D3D3\n",
    "LightGreen\n",
    "#90EE90\n",
    "LightPink\n",
    "#FFB6C1\n",
    "LightSalmon\n",
    "#FFA07A\n",
    "LightSeaGreen\n",
    "#20B2AA\n",
    "LightSkyBlue\n",
    "#87CEFA\n",
    "LightSlateGray\n",
    "#778899\n",
    "LightSlateGrey\n",
    "#778899\n",
    "LightSteelBlue\n",
    "#B0C4DE\n",
    "LightYellow\n",
    "#FFFFE0\n",
    "Lime\n",
    "#00FF00\n",
    "LimeGreen\n",
    "#32CD32\n",
    "Linen\n",
    "#FAF0E6\n",
    "Magenta\n",
    "#FF00FF\n",
    "Maroon\n",
    "#800000\n",
    "MediumAquaMarine\n",
    "#66CDAA\n",
    "MediumBlue\n",
    "#0000CD\n",
    "MediumOrchid\n",
    "#BA55D3\n",
    "MediumPurple\n",
    "#9370DB\n",
    "MediumSeaGreen\n",
    "#3CB371\n",
    "MediumSlateBlue\n",
    "#7B68EE\n",
    "MediumSpringGreen\n",
    "#00FA9A\n",
    "MediumTurquoise\n",
    "#48D1CC\n",
    "MediumVioletRed\n",
    "#C71585\n",
    "MidnightBlue\n",
    "#191970\n",
    "MintCream\n",
    "#F5FFFA\n",
    "MistyRose\n",
    "#FFE4E1\n",
    "Moccasin\n",
    "#FFE4B5\n",
    "NavajoWhite\n",
    "#FFDEAD\n",
    "Navy\n",
    "#000080\n",
    "OldLace\n",
    "#FDF5E6\n",
    "Olive\n",
    "#808000\n",
    "OliveDrab\n",
    "#6B8E23\n",
    "Orange\n",
    "#FFA500\n",
    "OrangeRed\n",
    "#FF4500\n",
    "Orchid\n",
    "#DA70D6\n",
    "PaleGoldenRod\n",
    "#EEE8AA\n",
    "PaleGreen\n",
    "#98FB98\n",
    "PaleTurquoise\n",
    "#AFEEEE\n",
    "PaleVioletRed\n",
    "#DB7093\n",
    "PapayaWhip\n",
    "#FFEFD5\n",
    "PeachPuff\n",
    "#FFDAB9\n",
    "Peru\n",
    "#CD853F\n",
    "Pink\n",
    "#FFC0CB\n",
    "Plum\n",
    "#DDA0DD\n",
    "PowderBlue\n",
    "#B0E0E6\n",
    "Purple\n",
    "#800080\n",
    "RebeccaPurple\n",
    "#663399\n",
    "Red\n",
    "#FF0000\n",
    "RosyBrown\n",
    "#BC8F8F\n",
    "RoyalBlue\n",
    "#4169E1\n",
    "SaddleBrown\n",
    "#8B4513\n",
    "Salmon\n",
    "#FA8072\n",
    "SandyBrown\n",
    "#F4A460\n",
    "SeaGreen\n",
    "#2E8B57\n",
    "SeaShell\n",
    "#FFF5EE\n",
    "Sienna\n",
    "#A0522D\n",
    "Silver\n",
    "#C0C0C0\n",
    "SkyBlue\n",
    "#87CEEB\n",
    "SlateBlue\n",
    "#6A5ACD\n",
    "SlateGray\n",
    "#708090\n",
    "SlateGrey\n",
    "#708090\n",
    "Snow\n",
    "#FFFAFA\n",
    "SpringGreen\n",
    "#00FF7F\n",
    "SteelBlue\n",
    "#4682B4\n",
    "Tan\n",
    "#D2B48C\n",
    "Teal\n",
    "#008080\n",
    "Thistle\n",
    "#D8BFD8\n",
    "Tomato\n",
    "#FF6347\n",
    "Turquoise\n",
    "#40E0D0\n",
    "Violet\n",
    "#EE82EE\n",
    "Wheat\n",
    "#F5DEB3\n",
    "White\n",
    "#FFFFFF\n",
    "WhiteSmoke\n",
    "#F5F5F5\n",
    "Yellow\n",
    "#FFFF00![download.png](attachment:download.png)"
   ]
  },
  {
   "cell_type": "code",
   "execution_count": 200,
   "id": "297736ac",
   "metadata": {},
   "outputs": [
    {
     "data": {
      "image/png": "[encoded data removed]",
      "text/plain": [
       "<Figure size 432x288 with 1 Axes>"
      ]
     },
     "metadata": {
      "needs_background": "light"
     },
     "output_type": "display_data"
    }
   ],
   "source": [
    "import matplotlib.pyplot as plt\n",
    "import numpy as np\n",
    "\n",
    "ypoints = np.array([3, 8, 1, 10])\n",
    "\n",
    "plt.plot(ypoints, color = 'r')\n",
    "plt.show()"
   ]
  },
  {
   "cell_type": "code",
   "execution_count": 203,
   "id": "b5c9801b",
   "metadata": {},
   "outputs": [
    {
     "data": {
      "image/png": "[encoded data removed]",
      "text/plain": [
       "<Figure size 432x288 with 1 Axes>"
      ]
     },
     "metadata": {
      "needs_background": "light"
     },
     "output_type": "display_data"
    }
   ],
   "source": [
    "import matplotlib.pyplot as plt\n",
    "import numpy as np\n",
    "\n",
    "ypoints = np.array([3, 8, 1, 10])\n",
    "\n",
    "plt.plot(ypoints, color = '#4682B4')\n",
    "plt.show()"
   ]
  },
  {
   "cell_type": "code",
   "execution_count": 206,
   "id": "d8d3e426",
   "metadata": {},
   "outputs": [
    {
     "data": {
      "image/png": "[encoded data removed]",
      "text/plain": [
       "<Figure size 432x288 with 1 Axes>"
      ]
     },
     "metadata": {
      "needs_background": "light"
     },
     "output_type": "display_data"
    }
   ],
   "source": [
    "import matplotlib.pyplot as plt\n",
    "import numpy as np\n",
    "\n",
    "ypoints = np.array([3, 8, 1, 10])\n",
    "\n",
    "plt.plot(ypoints, color = 'SteelBlue')\n",
    "plt.show()"
   ]
  },
  {
   "cell_type": "markdown",
   "id": "31a98563",
   "metadata": {},
   "source": [
    "# Line Width\n",
    "You can use the keyword argument linewidth or the shorter lw to change the width of the line.\n",
    "\n",
    "The value is a floating number, in points:# "
   ]
  },
  {
   "cell_type": "code",
   "execution_count": 210,
   "id": "8f8534eb",
   "metadata": {},
   "outputs": [
    {
     "data": {
      "image/png": "[encoded data removed]",
      "text/plain": [
       "<Figure size 432x288 with 1 Axes>"
      ]
     },
     "metadata": {
      "needs_background": "light"
     },
     "output_type": "display_data"
    }
   ],
   "source": [
    "import matplotlib.pyplot as plt\n",
    "import numpy as np\n",
    "xpoints=np.arange(1,35,3)\n",
    "ypoints = np.array([3, 8, 1, 10,5,40])\n",
    "plt.plot(xpoints, color = 'SteelBlue')\n",
    "plt.plot(ypoints, linewidth = '20.5')\n",
    "plt.show()"
   ]
  },
  {
   "cell_type": "code",
   "execution_count": 221,
   "id": "301bd197",
   "metadata": {},
   "outputs": [
    {
     "data": {
      "image/png": "[encoded data removed]",
      "text/plain": [
       "<Figure size 432x288 with 1 Axes>"
      ]
     },
     "metadata": {
      "needs_background": "light"
     },
     "output_type": "display_data"
    }
   ],
   "source": [
    "import matplotlib.pyplot as plt\n",
    "import numpy as np\n",
    "\n",
    "x1 = np.array([0, 1, 2, 3])\n",
    "y1 = np.array([3, 8, 1, 10])\n",
    "x2 = np.array([0, 1, 2, 3])\n",
    "y2 = np.array([6, 2, 7, 11])\n",
    "\n",
    "plt.plot(x1, y1,c='b')\n",
    "plt.plot(x2,y2,c='y')\n",
    "plt.show()"
   ]
  },
  {
   "cell_type": "markdown",
   "id": "58a5f1f4",
   "metadata": {},
   "source": [
    "# Create Labels for a Plot\n",
    "With Pyplot, you can use the xlabel() and ylabel() functions to set a label for the x- and y-axis.\n"
   ]
  },
  {
   "cell_type": "markdown",
   "id": "c3a2210a",
   "metadata": {},
   "source": [
    "# Create a Title for a Plot\n",
    "With Pyplot, you can use the title() function to set a title for the plot."
   ]
  },
  {
   "cell_type": "markdown",
   "id": "545232e8",
   "metadata": {},
   "source": [
    "# Set Font Properties for Title and Labels\n",
    "You can use the fontdict parameter in xlabel(), ylabel(), and title() to set font properties for the title and labels."
   ]
  },
  {
   "cell_type": "markdown",
   "id": "b6d03590",
   "metadata": {},
   "source": [
    "# Position the Title\n",
    "You can use the loc parameter in title() to position the title.\n",
    "\n",
    "Legal values are: 'left', 'right', and 'center'. Default value is 'center'."
   ]
  },
  {
   "cell_type": "code",
   "execution_count": 231,
   "id": "fe2ff1ec",
   "metadata": {},
   "outputs": [
    {
     "data": {
      "image/png": "[encoded data removed]",
      "text/plain": [
       "<Figure size 432x288 with 1 Axes>"
      ]
     },
     "metadata": {
      "needs_background": "light"
     },
     "output_type": "display_data"
    }
   ],
   "source": [
    "import numpy as np\n",
    "import matplotlib.pyplot as plt\n",
    "\n",
    "x = np.array([80, 85, 90, 95, 100, 105, 110, 115, 120, 125])\n",
    "y = np.array([240, 250, 260, 270, 280, 290, 300, 310, 320, 330])\n",
    "\n",
    "font1 = {'family':'serif','color':'blue','size':50}\n",
    "font2 = {'family':'serif','color':'darkred','size':15}\n",
    "font3 = {'family':'serif','color':'darkred','size':30}\n",
    "plt.title(\"Sports Watch Data\", loc = 'left',fontdict=font1)\n",
    "plt.xlabel(\"Average Pulse\",fontdict=font2)\n",
    "plt.ylabel(\"Calorie Burnage\",fontdict=font3)\n",
    "\n",
    "plt.plot(x, y)\n",
    "plt.show()"
   ]
  },
  {
   "cell_type": "markdown",
   "id": "922af219",
   "metadata": {},
   "source": [
    "# Add Grid Lines to a Plot\n",
    "With Pyplot, you can use the grid() function to add grid lines to the plot."
   ]
  },
  {
   "cell_type": "markdown",
   "id": "1938b04e",
   "metadata": {},
   "source": [
    "# Specify Which Grid Lines to Display\n",
    "You can use the axis parameter in the grid() function to specify which grid lines to display.\n",
    "\n",
    "Legal values are: 'x', 'y', and 'both'. Default value is 'both'."
   ]
  },
  {
   "cell_type": "markdown",
   "id": "8c0e1794",
   "metadata": {},
   "source": [
    "# Set Line Properties for the Grid\n",
    "You can also set the line properties of the grid, like this: grid(color = 'color', linestyle = 'linestyle', linewidth = number)."
   ]
  },
  {
   "cell_type": "code",
   "execution_count": 233,
   "id": "e0a56b3e",
   "metadata": {},
   "outputs": [
    {
     "data": {
      "image/png": "[encoded data removed]",
      "text/plain": [
       "<Figure size 432x288 with 1 Axes>"
      ]
     },
     "metadata": {
      "needs_background": "light"
     },
     "output_type": "display_data"
    }
   ],
   "source": [
    "import numpy as np\n",
    "import matplotlib.pyplot as plt\n",
    "\n",
    "x = np.array([80, 85, 90, 95, 100, 105, 110, 115, 120, 125])\n",
    "y = np.array([240, 250, 260, 270, 280, 290, 300, 310, 320, 330])\n",
    "\n",
    "plt.title(\"Sports Watch Data\")\n",
    "plt.xlabel(\"Average Pulse\")\n",
    "plt.ylabel(\"Calorie Burnage\")\n",
    "\n",
    "plt.plot(x, y)\n",
    "\n",
    "plt.grid(color = 'green', ls = '-.', linewidth = 3)\n",
    "\n",
    "plt.show()"
   ]
  },
  {
   "cell_type": "code",
   "execution_count": 235,
   "id": "533c161f",
   "metadata": {},
   "outputs": [
    {
     "data": {
      "image/png": "[encoded data removed]",
      "text/plain": [
       "<Figure size 432x288 with 1 Axes>"
      ]
     },
     "metadata": {
      "needs_background": "light"
     },
     "output_type": "display_data"
    }
   ],
   "source": [
    "import numpy as np\n",
    "import matplotlib.pyplot as plt\n",
    "\n",
    "x = np.array([80, 85, 90, 95, 100, 105, 110, 115, 120, 125])\n",
    "y = np.array([240, 250, 260, 270, 280, 290, 300, 310, 320, 330])\n",
    "\n",
    "plt.title(\"Sports Watch Data\")\n",
    "plt.xlabel(\"Average Pulse\")\n",
    "plt.ylabel(\"Calorie Burnage\")\n",
    "\n",
    "plt.plot(x, y)\n",
    "\n",
    "plt.grid(color = 'green', linestyle = '--', linewidth = 0.5,axis='x')\n",
    "\n",
    "plt.show()"
   ]
  },
  {
   "cell_type": "code",
   "execution_count": 240,
   "id": "6dd31c07",
   "metadata": {},
   "outputs": [
    {
     "data": {
      "image/png": "[encoded data removed]",
      "text/plain": [
       "<Figure size 432x288 with 1 Axes>"
      ]
     },
     "metadata": {
      "needs_background": "light"
     },
     "output_type": "display_data"
    }
   ],
   "source": [
    "import numpy as np\n",
    "import matplotlib.pyplot as plt\n",
    "\n",
    "x = np.array([80, 85, 90, 95, 100, 105, 110, 115, 120, 125])\n",
    "y = np.array([240, 250, 260, 270, 280, 290, 300, 310, 320, 330])\n",
    "\n",
    "plt.title(\"Sports Watch Data\")\n",
    "plt.xlabel(\"Average Pulse\")\n",
    "plt.ylabel(\"Calorie Burnage\")\n",
    "\n",
    "plt.plot(x, y)\n",
    "\n",
    "plt.grid(axis='y',color = 'green', linestyle = '-.', linewidth = 0.5)\n",
    "\n",
    "plt.show()"
   ]
  },
  {
   "cell_type": "markdown",
   "id": "066bee2d",
   "metadata": {},
   "source": [
    "# Display Multiple Plots\n",
    "With the subplot() function you can draw multiple plots in one figure:\n",
    "\n",
    "\n",
    "#The subplot() Function\n",
    "\n",
    "\n",
    "The subplot() function takes three arguments that describes the layout of the figure.\n",
    "\n",
    "The layout is organized in rows and columns, which are represented by the first and second argument.\n",
    "\n",
    "The third argument represents the index of the current plot.\n",
    "\n",
    "plt.subplot(1, 2, 1)\n",
    "#the figure has 1 row, 2 columns, and this plot is the first plot.\n",
    "\n",
    "plt.subplot(1, 2, 2)\n",
    "#the figure has 1 row, 2 columns, and this plot is the second plot.\n",
    "So, if we want a figure with 2 rows an 1 column (meaning that the two plots will be displayed on top of each other instead of side-by-side), we can write the syntax like this:"
   ]
  },
  {
   "cell_type": "code",
   "execution_count": 244,
   "id": "2585a7cd",
   "metadata": {},
   "outputs": [
    {
     "data": {
      "image/png": "[encoded data removed]",
      "text/plain": [
       "<Figure size 432x288 with 2 Axes>"
      ]
     },
     "metadata": {
      "needs_background": "light"
     },
     "output_type": "display_data"
    }
   ],
   "source": [
    "import matplotlib.pyplot as plt\n",
    "import numpy as np\n",
    "\n",
    "#plot 1:\n",
    "x = np.array([0, 1, 2, 3])\n",
    "y = np.array([3, 8, 1, 10])\n",
    "\n",
    "plt.subplot(2, 1, 1)\n",
    "plt.plot(x,y)\n",
    "\n",
    "#plot 2:\n",
    "x = np.array([0, 1, 2, 3])\n",
    "y = np.array([10, 20, 30, 40])\n",
    "\n",
    "plt.subplot(2, 1, 2)\n",
    "plt.plot(x,y)\n",
    "\n",
    "plt.show()"
   ]
  },
  {
   "cell_type": "code",
   "execution_count": 246,
   "id": "c9d33ed5",
   "metadata": {},
   "outputs": [
    {
     "data": {
      "image/png": "[encoded data removed]",
      "text/plain": [
       "<Figure size 432x288 with 2 Axes>"
      ]
     },
     "metadata": {
      "needs_background": "light"
     },
     "output_type": "display_data"
    }
   ],
   "source": [
    "import matplotlib.pyplot as plt\n",
    "import numpy as np\n",
    "\n",
    "#plot 1:\n",
    "x = np.array([0, 1, 2, 3])\n",
    "y = np.array([3, 8, 1, 10])\n",
    "\n",
    "plt.subplot(2, 1, 2)\n",
    "plt.plot(x,y)\n",
    "\n",
    "#plot 2:\n",
    "x = np.array([0, 1, 2, 3])\n",
    "y = np.array([10, 20, 30, 40])\n",
    "\n",
    "plt.subplot(2, 1, 1)\n",
    "plt.plot(x,y)\n",
    "\n",
    "plt.show()"
   ]
  },
  {
   "cell_type": "code",
   "execution_count": 254,
   "id": "34673cec",
   "metadata": {},
   "outputs": [
    {
     "data": {
      "image/png": "[encoded data removed]",
      "text/plain": [
       "<Figure size 432x288 with 5 Axes>"
      ]
     },
     "metadata": {
      "needs_background": "light"
     },
     "output_type": "display_data"
    }
   ],
   "source": [
    "import matplotlib.pyplot as plt\n",
    "import numpy as np\n",
    "\n",
    "x = np.array([0, 1, 2, 3])\n",
    "y = np.array([3, 8, 1, 10])\n",
    "\n",
    "plt.subplot(15, 13, 1)\n",
    "plt.plot(x,y)\n",
    "\n",
    "x = np.array([0, 1, 2, 3])\n",
    "y = np.array([10, 20, 30, 40])\n",
    "\n",
    "plt.subplot(15, 15, 2)\n",
    "plt.plot(x,y)\n",
    "\n",
    "x = np.array([0, 1, 2, 3])\n",
    "y = np.array([3, 8, 1, 10])\n",
    "\n",
    "plt.subplot(15, 15, 3)\n",
    "plt.plot(x,y)\n",
    "\n",
    "x = np.array([0, 1, 2, 3])\n",
    "y = np.array([10, 20, 30, 40])\n",
    "\n",
    "plt.subplot(15, 13, 4)\n",
    "plt.plot(x,y)\n",
    "\n",
    "x = np.array([0, 1, 2, 3])\n",
    "y = np.array([3, 8, 1, 10])\n",
    "\n",
    "plt.subplot(15, 13, 5)\n",
    "plt.plot(x,y)\n",
    "\n",
    "x = np.array([0, 1, 2, 3])\n",
    "y = np.array([10, 20, 30, 40])\n",
    "\n",
    "plt.subplot(15, 15, 6)\n",
    "plt.plot(x,y)\n",
    "\n",
    "plt.show()"
   ]
  },
  {
   "cell_type": "markdown",
   "id": "95e1b9ab",
   "metadata": {},
   "source": [
    "# Creating Scatter Plots\n",
    "With Pyplot, you can use the scatter() function to draw a scatter plot.\n",
    "\n",
    "The scatter() function plots one dot for each observation. \n",
    "It needs two arrays of the same length, one for the values of the x-axis, and one for values on the y-axis.\n",
    "The observation in the example above is the result of 13 cars passing by.\n",
    "\n",
    "The X-axis shows how old the car is.\n",
    "\n",
    "The Y-axis shows the speed of the car when it passes.\n",
    "\n",
    "Are there any relationships between the observations?\n",
    "\n",
    "It seems that the newer the car, the faster it drives, but that could be a coincidence, after all we only registered 13 cars.\n",
    "\n",
    "Compare Plots\n",
    "In the exa88mple above, there seems to be a relationship between speed and age, but what if we plot the observations from another day as well? Will the scatter plot tell us something else?\n",
    "Colors\n",
    "You can set your own color for each scatter plot with the color or the c argument.\n",
    "Color Each Dot\n",
    "You can even set a specific color for each dot by using an array of colors as value for the c argument:\n",
    "\n",
    "Note: You cannot use the color argument for this, only the c argument.\n",
    "ColorMap\n",
    "The Matplotlib module has a number of available colormaps.\n",
    "\n",
    "A colormap is like a list of colors, where each color has a value that ranges from 0 to 100.\n",
    "\n",
    "Here is an example of a colormap:\n",
    "\n",
    "\n",
    "\n",
    "This colormap is called 'viridis' and as you can see it ranges from 0, which is a purple color, and up to 100, which is a yellow color.\n",
    "\n",
    "How to Use the ColorMap\n",
    "You can specify the colormap with the keyword argument cmap with the value of the colormap, in this case 'viridis' which is one of the built-in colormaps available in Matplotlib.\n",
    "\n",
    "In addition you have to create an array with values (from 0 to 100), one value for each of the point in the scatter plot.\n",
    "You can include the colormap in the drawing by including the plt.colorbar() statement."
   ]
  },
  {
   "cell_type": "markdown",
   "id": "a7f5c60d",
   "metadata": {},
   "source": [
    "# Available ColorMaps\n",
    "You can choose any of the built-in colormaps:\n",
    "\n",
    "Name\t\t \tReverse\t\n",
    "Accent\t\t \tAccent_r\t\n",
    "Blues\t\t \tBlues_r\t\n",
    "BrBG\t\t \tBrBG_r\t\n",
    "BuGn\t\t \tBuGn_r\t\n",
    "BuPu\t\t \tBuPu_r\t\n",
    "CMRmap\t\t \tCMRmap_r\t\n",
    "Dark2\t\t \tDark2_r\t\n",
    "GnBu\t\t \tGnBu_r\t\n",
    "Greens\t\t \tGreens_r\t\n",
    "Greys\t\t \tGreys_r\t\n",
    "OrRd\t\t \tOrRd_r\t\n",
    "Oranges\t\t \tOranges_r\t\n",
    "PRGn\t\t \tPRGn_r\t\n",
    "Paired\t\t \tPaired_r\t\n",
    "Pastel1\t\t \tPastel1_r\t\n",
    "Pastel2\t\t \tPastel2_r\t\n",
    "PiYG\t\t \tPiYG_r\t\n",
    "PuBu\t\t \tPuBu_r\t\n",
    "PuBuGn\t\t \tPuBuGn_r\t\n",
    "PuOr\t\t \tPuOr_r\t\n",
    "PuRd\t\t \tPuRd_r\t\n",
    "Purples\t\t \tPurples_r\t\n",
    "RdBu\t\t \tRdBu_r\t\n",
    "RdGy\t\t \tRdGy_r\t\n",
    "RdPu\t\t \tRdPu_r\t\n",
    "RdYlBu\t\t \tRdYlBu_r\t\n",
    "RdYlGn\t\t \tRdYlGn_r\t\n",
    "Reds\t\t \tReds_r\t\n",
    "Set1\t\t \tSet1_r\t\n",
    "Set2\t\t \tSet2_r\t\n",
    "Set3\t\t \tSet3_r\t\n",
    "Spectral\t\t \tSpectral_r\t\n",
    "Wistia\t\t \tWistia_r\t\n",
    "YlGn\t\t \tYlGn_r\t\n",
    "YlGnBu\t\t \tYlGnBu_r\t\n",
    "YlOrBr\t\t \tYlOrBr_r\t\n",
    "YlOrRd\t\t \tYlOrRd_r\t\n",
    "afmhot\t\t \tafmhot_r\t\n",
    "autumn\t\t \tautumn_r\t\n",
    "binary\t\t \tbinary_r\t\n",
    "bone\t\t \tbone_r\t\n",
    "brg\t\t \tbrg_r\t\n",
    "bwr\t\t \tbwr_r\t\n",
    "cividis\t\t \tcividis_r\t\n",
    "cool\t\t \tcool_r\t\n",
    "coolwarm\t\t \tcoolwarm_r\t\n",
    "copper\t\t \tcopper_r\t\n",
    "cubehelix\t\t \tcubehelix_r\t\n",
    "flag\t\t \tflag_r\t\n",
    "gist_earth\t\t \tgist_earth_r\t\n",
    "gist_gray\t\t \tgist_gray_r\t\n",
    "gist_heat\t\t \tgist_heat_r\t\n",
    "gist_ncar\t\t \tgist_ncar_r\t\n",
    "gist_rainbow\t\t \tgist_rainbow_r\t\n",
    "gist_stern\t\t \tgist_stern_r\t\n",
    "gist_yarg\t\t \tgist_yarg_r\t\n",
    "gnuplot\t\t \tgnuplot_r\t\n",
    "gnuplot2\t\t \tgnuplot2_r\t\n",
    "gray\t\t \tgray_r\t\n",
    "hot\t\t \thot_r\t\n",
    "hsv\t\t \thsv_r\t\n",
    "inferno\t\t \tinferno_r\t\n",
    "jet\t\t \tjet_r\t\n",
    "magma\t\t \tmagma_r\t\n",
    "nipy_spectral\t\t \tnipy_spectral_r\t\n",
    "ocean\t\t \tocean_r\t\n",
    "pink\t\t \tpink_r\t\n",
    "plasma\t\t \tplasma_r\t\n",
    "prism\t\t \tprism_r\t\n",
    "rainbow\t\t \trainbow_r\t\n",
    "seismic\t\t \tseismic_r\t\n",
    "spring\t\t \tspring_r\t\n",
    "summer\t\t \tsummer_r\t\n",
    "tab10\t\t \ttab10_r\t\n",
    "tab20\t\t \ttab20_r\t\n",
    "tab20b\t\t \ttab20b_r\t\n",
    "tab20c\t\t \ttab20c_r\t\n",
    "terrain\t\t \tterrain_r\t\n",
    "twilight\t\t \ttwilight_r\t\n",
    "twilight_shifted\t\t \ttwilight_shifted_r\t\n",
    "viridis\t\t \tviridis_r\t\n",
    "winter\t\t \twinter_r\t\n",
    "Size\n",
    "You can change the size of the dots with the s argument.\n",
    "\n",
    "Just like colors, make sure the array for sizes has the same length as the arrays for the x- and y-axis:"
   ]
  },
  {
   "cell_type": "markdown",
   "id": "fb3b10c2",
   "metadata": {},
   "source": [
    "# Alpha\n",
    "You can adjust the transparency of the dots with the alpha argument.\n",
    "\n",
    "Just like colors, make sure the array for sizes has the same length as the arrays for the x- and y-axis:\n",
    "Combine Color Size and Alpha\n",
    "You can combine a colormap with different sizes on the dots. This is best visualized if the dots are transparent:"
   ]
  },
  {
   "cell_type": "code",
   "execution_count": 262,
   "id": "720b861c",
   "metadata": {},
   "outputs": [
    {
     "data": {
      "image/png": "[encoded data removed]",
      "text/plain": [
       "<Figure size 432x288 with 1 Axes>"
      ]
     },
     "metadata": {
      "needs_background": "light"
     },
     "output_type": "display_data"
    }
   ],
   "source": [
    "import matplotlib.pyplot as plt\n",
    "import numpy as np\n",
    "\n",
    "x = np.array([1,2,3,4,5,6,7,8])\n",
    "y = np.array([10,20,30,40,50,60,70,80])\n",
    "\n",
    "plt.scatter(x, y)\n",
    "plt.show()"
   ]
  },
  {
   "cell_type": "code",
   "execution_count": 264,
   "id": "3bbb78d1",
   "metadata": {},
   "outputs": [
    {
     "data": {
      "image/png": "[encoded data removed]",
      "text/plain": [
       "<Figure size 432x288 with 1 Axes>"
      ]
     },
     "metadata": {
      "needs_background": "light"
     },
     "output_type": "display_data"
    }
   ],
   "source": [
    "import matplotlib.pyplot as plt\n",
    "import numpy as np\n",
    "\n",
    "x = np.array([5,7,8,7,2,17,2,9,4,11,12,9,6])\n",
    "y = np.array([99,86,87,88,111,86,103,87,94,78,77,85,86])\n",
    "\n",
    "plt.scatter(x, y)\n",
    "plt.show()"
   ]
  },
  {
   "cell_type": "markdown",
   "id": "67d0ecbb",
   "metadata": {},
   "source": [
    "# Creating Scatter Plots\n",
    "With Pyplot, you can use the scatter() function to draw a scatter plot.\n",
    "\n",
    "The scatter() function plots one dot for each observation. It needs two arrays of the same length, one for the values of the x-axis, and one for values on the y-axis:"
   ]
  },
  {
   "cell_type": "code",
   "execution_count": 266,
   "id": "38db3784",
   "metadata": {},
   "outputs": [
    {
     "data": {
      "image/png": "[encoded data removed]",
      "text/plain": [
       "<Figure size 432x288 with 1 Axes>"
      ]
     },
     "metadata": {
      "needs_background": "light"
     },
     "output_type": "display_data"
    }
   ],
   "source": [
    "import matplotlib.pyplot as plt\n",
    "import numpy as np\n",
    "\n",
    "x = np.array([5,7,8,7,2,17,2,9,4,11,12,9,6])\n",
    "y = np.array([99,86,87,88,111,86,103,87,94,78,77,85,86])\n",
    "\n",
    "plt.scatter(x, y)\n",
    "plt.show()"
   ]
  },
  {
   "cell_type": "markdown",
   "id": "5918f4c7",
   "metadata": {},
   "source": [
    "The observation in the example above is the result of 13 cars passing by.\n",
    "\n",
    "The X-axis shows how old the car is.\n",
    "\n",
    "The Y-axis shows the speed of the car when it passes.\n",
    "\n",
    "Are there any relationships between the observations?\n",
    "\n",
    "It seems that the newer the car, the faster it drives, but that could be a coincidence, after all we only registered 13 cars.\n",
    "\n",
    "Compare Plots\n",
    "In the example above, there seems to be a relationship between speed and age, but what if we plot the observations from another day as well? Will the scatter plot tell us something else?"
   ]
  },
  {
   "cell_type": "code",
   "execution_count": 309,
   "id": "84f588e5",
   "metadata": {},
   "outputs": [
    {
     "data": {
      "image/png": "[encoded data removed]",
      "text/plain": [
       "<Figure size 432x288 with 1 Axes>"
      ]
     },
     "metadata": {
      "needs_background": "light"
     },
     "output_type": "display_data"
    }
   ],
   "source": [
    "import matplotlib.pyplot as plt\n",
    "import numpy as np\n",
    "\n",
    "#day one, the age and speed of 13 cars:\n",
    "x = np.array([5,7,8,7,2,17,2,9,4,11,12,9,6])\n",
    "y = np.array([99,86,87,88,111,86,103,87,94,78,77,85,86])\n",
    "plt.scatter(x, y,label='A')\n",
    "\n",
    "#day two, the age and speed of 15 cars:\n",
    "x = np.array([2,2,8,1,15,8,12,9,7,3,11,4,7,14,12])\n",
    "y = np.array([100,105,84,105,90,99,90,95,94,100,79,112,91,80,85])\n",
    "plt.scatter(x, y,label='B')\n",
    "plt.legend()\n",
    "\n",
    "plt.show()"
   ]
  },
  {
   "cell_type": "code",
   "execution_count": 270,
   "id": "0b960b22",
   "metadata": {},
   "outputs": [
    {
     "data": {
      "image/png": "[encoded data removed]",
      "text/plain": [
       "<Figure size 432x288 with 1 Axes>"
      ]
     },
     "metadata": {
      "needs_background": "light"
     },
     "output_type": "display_data"
    }
   ],
   "source": [
    "import matplotlib.pyplot as plt\n",
    "import numpy as np\n",
    "\n",
    "x = np.array([5,7,8,7,2,17,2,9,4,11,12,9,6])\n",
    "y = np.array([99,86,87,88,111,86,103,87,94,78,77,85,86])\n",
    "plt.scatter(x, y, color = 'hotpink')\n",
    "\n",
    "x = np.array([2,2,8,1,15,8,12,9,7,3,11,4,7,14,12])\n",
    "y = np.array([100,105,84,105,90,99,90,95,94,100,79,112,91,80,85])\n",
    "plt.scatter(x, y, color = '#88c999')\n",
    "\n",
    "plt.show()"
   ]
  },
  {
   "cell_type": "markdown",
   "id": "5d799138",
   "metadata": {},
   "source": [
    "# Color Each Dot\n",
    "You can even set a specific color for each dot by using an array of colors as value for the c argument:\n",
    "\n",
    "Note: You cannot use the color argument for this, only the c argument."
   ]
  },
  {
   "cell_type": "code",
   "execution_count": 271,
   "id": "b84c36f5",
   "metadata": {},
   "outputs": [
    {
     "data": {
      "image/png": "[encoded data removed]",
      "text/plain": [
       "<Figure size 432x288 with 1 Axes>"
      ]
     },
     "metadata": {
      "needs_background": "light"
     },
     "output_type": "display_data"
    }
   ],
   "source": [
    "import matplotlib.pyplot as plt\n",
    "import numpy as np\n",
    "\n",
    "x = np.array([5,7,8,7,2,17,2,9,4,11,12,9,6])\n",
    "y = np.array([99,86,87,88,111,86,103,87,94,78,77,85,86])\n",
    "colors = np.array([\"red\",\"green\",\"blue\",\"yellow\",\"pink\",\"black\",\"orange\",\"purple\",\"beige\",\"brown\",\"gray\",\"cyan\",\"magenta\"])\n",
    "\n",
    "plt.scatter(x, y, c=colors)\n",
    "\n",
    "plt.show()"
   ]
  },
  {
   "cell_type": "markdown",
   "id": "5211bb52",
   "metadata": {},
   "source": [
    "# ColorMap\n",
    "The Matplotlib module has a number of available colormaps.\n",
    "\n",
    "A colormap is like a list of colors, where each color has a value that ranges from 0 to 100.\n",
    "\n",
    "Here is an example of a colormap:\n",
    "\n",
    "\n",
    "\n",
    "This colormap is called 'viridis' and as you can see it ranges from 0, which is a purple color, and up to 100, which is a yellow color.\n",
    "\n",
    "How to Use the ColorMap\n",
    "You can specify the colormap with the keyword argument cmap with the value of the colormap, in this case 'viridis' which is one of the built-in colormaps available in Matplotlib.\n",
    "\n",
    "In addition you have to create an array with values (from 0 to 100), one value for each of the point in the scatter plot:"
   ]
  },
  {
   "cell_type": "code",
   "execution_count": 272,
   "id": "9c279fb1",
   "metadata": {},
   "outputs": [
    {
     "data": {
      "image/png": "[encoded data removed]",
      "text/plain": [
       "<Figure size 432x288 with 1 Axes>"
      ]
     },
     "metadata": {
      "needs_background": "light"
     },
     "output_type": "display_data"
    }
   ],
   "source": [
    "import matplotlib.pyplot as plt\n",
    "import numpy as np\n",
    "\n",
    "x = np.array([5,7,8,7,2,17,2,9,4,11,12,9,6])\n",
    "y = np.array([99,86,87,88,111,86,103,87,94,78,77,85,86])\n",
    "colors = np.array([0, 10, 20, 30, 40, 45, 50, 55, 60, 70, 80, 90, 100])\n",
    "\n",
    "plt.scatter(x, y, c=colors, cmap='viridis')\n",
    "\n",
    "plt.show()"
   ]
  },
  {
   "cell_type": "code",
   "execution_count": 273,
   "id": "fb7ef2ab",
   "metadata": {},
   "outputs": [
    {
     "data": {
      "image/png": "[encoded data removed]",
      "text/plain": [
       "<Figure size 432x288 with 2 Axes>"
      ]
     },
     "metadata": {
      "needs_background": "light"
     },
     "output_type": "display_data"
    }
   ],
   "source": [
    "import matplotlib.pyplot as plt\n",
    "import numpy as np\n",
    "\n",
    "x = np.array([5,7,8,7,2,17,2,9,4,11,12,9,6])\n",
    "y = np.array([99,86,87,88,111,86,103,87,94,78,77,85,86])\n",
    "colors = np.array([0, 10, 20, 30, 40, 45, 50, 55, 60, 70, 80, 90, 100])\n",
    "\n",
    "plt.scatter(x, y, c=colors, cmap='viridis')\n",
    "\n",
    "plt.colorbar()\n",
    "\n",
    "plt.show()"
   ]
  },
  {
   "cell_type": "markdown",
   "id": "a032536f",
   "metadata": {},
   "source": [
    "# Size\n",
    "You can change the size of the dots with the s argument.\n",
    "\n",
    "Just like colors, make sure the array for sizes has the same length as the arrays for the x- and y-axis:"
   ]
  },
  {
   "cell_type": "code",
   "execution_count": null,
   "id": "ddd4c3ff",
   "metadata": {},
   "outputs": [],
   "source": [
    "import matplotlib.pyplot as plt\n",
    "import numpy as np\n",
    "\n",
    "x = np.array([5,7,8,7,2,17,2,9,4,11,12,9,6])\n",
    "y = np.array([99,86,87,88,111,86,103,87,94,78,77,85,86])\n",
    "sizes = np.array([20,50,100,200,500,1000,60,90,10,300,600,800,75])\n",
    "\n",
    "plt.scatter(x, y, s=sizes)\n",
    "\n",
    "plt.show()"
   ]
  },
  {
   "cell_type": "markdown",
   "id": "31b559a7",
   "metadata": {},
   "source": [
    "# Alpha\n",
    "You can adjust the transparency of the dots with the alpha argument.\n",
    "\n",
    "Just like colors, make sure the array for sizes has the same length as the arrays for the x- and y-axis:"
   ]
  },
  {
   "cell_type": "code",
   "execution_count": 276,
   "id": "55f96e12",
   "metadata": {},
   "outputs": [
    {
     "data": {
      "image/png": "[encoded data removed]",
      "text/plain": [
       "<Figure size 432x288 with 1 Axes>"
      ]
     },
     "metadata": {
      "needs_background": "light"
     },
     "output_type": "display_data"
    }
   ],
   "source": [
    "import matplotlib.pyplot as plt\n",
    "import numpy as np\n",
    "\n",
    "x = np.array([5,7,8,7,2,17,2,9,4,11,12,9,6])\n",
    "y = np.array([99,86,87,88,111,86,103,87,94,78,77,85,86])\n",
    "sizes = np.array([20,50,100,200,500,1000,60,90,10,300,600,800,75])\n",
    "\n",
    "plt.scatter(x, y, s=sizes, alpha=0.5)\n",
    "\n",
    "plt.show()"
   ]
  },
  {
   "cell_type": "markdown",
   "id": "08449dca",
   "metadata": {},
   "source": [
    "# Combine Color Size and Alpha\n",
    "You can combine a colormap with different sizes on the dots. This is best visualized if the dots are transparent:"
   ]
  },
  {
   "cell_type": "code",
   "execution_count": 319,
   "id": "84022203",
   "metadata": {},
   "outputs": [
    {
     "data": {
      "image/png": "[encoded data removed]",
      "text/plain": [
       "<Figure size 432x288 with 2 Axes>"
      ]
     },
     "metadata": {
      "needs_background": "light"
     },
     "output_type": "display_data"
    }
   ],
   "source": [
    "import matplotlib.pyplot as plt\n",
    "import numpy as np\n",
    "\n",
    "x = np.random.randint(100, size=(100))\n",
    "y = np.random.randint(100, size=(100))\n",
    "colors = np.random.randint(100, size=(100))\n",
    "sizes = 10 * np.random.randint(100, size=(100))\n",
    "\n",
    "plt.scatter(x, y, c=colors, s=sizes, alpha=0.5, cmap='nipy_spectral')\n",
    "\n",
    "plt.colorbar()\n",
    "\n",
    "plt.show()"
   ]
  },
  {
   "cell_type": "code",
   "execution_count": 320,
   "id": "82ca9895",
   "metadata": {},
   "outputs": [
    {
     "data": {
      "text/plain": [
       "[10, 9, 8, 7, 6, 5, 4, 3, 2, 1]"
      ]
     },
     "execution_count": 320,
     "metadata": {},
     "output_type": "execute_result"
    }
   ],
   "source": [
    "list(reversed(list(range(1,11))))"
   ]
  },
  {
   "cell_type": "code",
   "execution_count": 321,
   "id": "e4e8346d",
   "metadata": {},
   "outputs": [
    {
     "data": {
      "text/plain": [
       "[1, 3, 4, 5]"
      ]
     },
     "execution_count": 321,
     "metadata": {},
     "output_type": "execute_result"
    }
   ],
   "source": [
    "n=[1,2,3,4,5]\n",
    "n.remove(2)\n",
    "n"
   ]
  },
  {
   "cell_type": "code",
   "execution_count": 325,
   "id": "c639ac68",
   "metadata": {},
   "outputs": [
    {
     "data": {
      "image/png": "[encoded data removed]",
      "text/plain": [
       "<Figure size 432x288 with 1 Axes>"
      ]
     },
     "metadata": {},
     "output_type": "display_data"
    }
   ],
   "source": [
    "\n",
    "\n",
    "import matplotlib.pyplot as plt\n",
    "import numpy as np\n",
    "y=[10,30,50,5,5]\n",
    "la=['1q','2q','3q','4q','5q']\n",
    "plt.pie(y,labels = la, explode=[0.5,0.1,0.1,0.1,0.1],shadow=True)\n",
    "plt.show()\n",
    "\n"
   ]
  }
 ],
 "metadata": {
  "kernelspec": {
   "display_name": "Python 3 (ipykernel)",
   "language": "python",
   "name": "python3"
  },
  "language_info": {
   "codemirror_mode": {
    "name": "ipython",
    "version": 3
   },
   "file_extension": ".py",
   "mimetype": "text/x-python",
   "name": "python",
   "nbconvert_exporter": "python",
   "pygments_lexer": "ipython3",
   "version": "3.9.12"
  }
 },
 "nbformat": 4,
 "nbformat_minor": 5
}
